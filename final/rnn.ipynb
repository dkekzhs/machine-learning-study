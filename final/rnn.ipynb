{
 "cells": [
  {
   "cell_type": "code",
   "execution_count": 1,
   "metadata": {},
   "outputs": [
    {
     "name": "stderr",
     "output_type": "stream",
     "text": [
      "<__array_function__ internals>:5: VisibleDeprecationWarning: Creating an ndarray from ragged nested sequences (which is a list-or-tuple of lists-or-tuples-or ndarrays with different lengths or shapes) is deprecated. If you meant to do this, you must specify 'dtype=object' when creating the ndarray\n",
      "/Users/idongjae/miniforge3/envs/tensor/lib/python3.8/site-packages/tensorflow/python/keras/datasets/imdb.py:155: VisibleDeprecationWarning: Creating an ndarray from ragged nested sequences (which is a list-or-tuple of lists-or-tuples-or ndarrays with different lengths or shapes) is deprecated. If you meant to do this, you must specify 'dtype=object' when creating the ndarray\n",
      "  x_train, y_train = np.array(xs[:idx]), np.array(labels[:idx])\n",
      "/Users/idongjae/miniforge3/envs/tensor/lib/python3.8/site-packages/tensorflow/python/keras/datasets/imdb.py:156: VisibleDeprecationWarning: Creating an ndarray from ragged nested sequences (which is a list-or-tuple of lists-or-tuples-or ndarrays with different lengths or shapes) is deprecated. If you meant to do this, you must specify 'dtype=object' when creating the ndarray\n",
      "  x_test, y_test = np.array(xs[idx:]), np.array(labels[idx:])\n"
     ]
    },
    {
     "name": "stdout",
     "output_type": "stream",
     "text": [
      "(25000,) (25000,)\n"
     ]
    }
   ],
   "source": [
    "from tensorflow.keras.datasets import imdb\n",
    "\n",
    "(train_input, train_target) ,(test_input, test_target) = imdb.load_data(num_words=500)\n",
    "print(train_input.shape,test_input.shape)"
   ]
  },
  {
   "cell_type": "code",
   "execution_count": 2,
   "metadata": {},
   "outputs": [],
   "source": [
    "from sklearn.model_selection import train_test_split\n",
    "# 단어 부족 시 패딩 추가\n",
    "train_input,val_input,train_target,val_target = train_test_split(train_input,train_target,test_size=0.2,random_state=42)\n"
   ]
  },
  {
   "cell_type": "code",
   "execution_count": 3,
   "metadata": {},
   "outputs": [],
   "source": [
    "from tensorflow.keras.preprocessing.sequence import pad_sequences\n",
    "\n",
    "train_seq = pad_sequences(train_input,maxlen=100)\n",
    "val_seq = pad_sequences(val_input, maxlen=100)"
   ]
  },
  {
   "cell_type": "code",
   "execution_count": 4,
   "metadata": {},
   "outputs": [],
   "source": [
    "from tensorflow import keras\n",
    "\n",
    "model = keras.Sequential()\n",
    "\n",
    "model.add(keras.layers.SimpleRNN(8,input_shape =(100,500)))\n",
    "model.add(keras.layers.Dense(1,activation=\"sigmoid\"))\n"
   ]
  },
  {
   "cell_type": "code",
   "execution_count": 5,
   "metadata": {},
   "outputs": [
    {
     "name": "stdout",
     "output_type": "stream",
     "text": [
      "(20000, 100, 500)\n"
     ]
    }
   ],
   "source": [
    "train_oh = keras.utils.to_categorical(train_seq)\n",
    "\n",
    "print(train_oh.shape)\n",
    "val_oh = keras.utils.to_categorical(val_seq)"
   ]
  },
  {
   "cell_type": "code",
   "execution_count": 6,
   "metadata": {},
   "outputs": [
    {
     "name": "stdout",
     "output_type": "stream",
     "text": [
      "Model: \"sequential\"\n",
      "_________________________________________________________________\n",
      "Layer (type)                 Output Shape              Param #   \n",
      "=================================================================\n",
      "simple_rnn (SimpleRNN)       (None, 8)                 4072      \n",
      "_________________________________________________________________\n",
      "dense (Dense)                (None, 1)                 9         \n",
      "=================================================================\n",
      "Total params: 4,081\n",
      "Trainable params: 4,081\n",
      "Non-trainable params: 0\n",
      "_________________________________________________________________\n"
     ]
    }
   ],
   "source": [
    "model.summary()"
   ]
  },
  {
   "cell_type": "code",
   "execution_count": 7,
   "metadata": {},
   "outputs": [
    {
     "name": "stderr",
     "output_type": "stream",
     "text": [
      "2022-11-19 17:15:04.472632: I tensorflow/compiler/mlir/mlir_graph_optimization_pass.cc:176] None of the MLIR Optimization Passes are enabled (registered 2)\n",
      "2022-11-19 17:15:04.472812: W tensorflow/core/platform/profile_utils/cpu_utils.cc:128] Failed to get CPU frequency: 0 Hz\n"
     ]
    },
    {
     "name": "stdout",
     "output_type": "stream",
     "text": [
      "Epoch 1/100\n",
      "313/313 [==============================] - 7s 22ms/step - loss: 0.6942 - accuracy: 0.5202 - val_loss: 0.6880 - val_accuracy: 0.5400\n",
      "Epoch 2/100\n",
      "313/313 [==============================] - 6s 21ms/step - loss: 0.6750 - accuracy: 0.5774 - val_loss: 0.6637 - val_accuracy: 0.6014\n",
      "Epoch 3/100\n",
      "313/313 [==============================] - 7s 22ms/step - loss: 0.6459 - accuracy: 0.6388 - val_loss: 0.6361 - val_accuracy: 0.6550\n",
      "Epoch 4/100\n",
      "313/313 [==============================] - 6s 20ms/step - loss: 0.6182 - accuracy: 0.6838 - val_loss: 0.6098 - val_accuracy: 0.6884\n",
      "Epoch 5/100\n",
      "313/313 [==============================] - 7s 22ms/step - loss: 0.5953 - accuracy: 0.7115 - val_loss: 0.5898 - val_accuracy: 0.7156\n",
      "Epoch 6/100\n",
      "313/313 [==============================] - 6s 19ms/step - loss: 0.5754 - accuracy: 0.7301 - val_loss: 0.5734 - val_accuracy: 0.7238\n",
      "Epoch 7/100\n",
      "313/313 [==============================] - 6s 20ms/step - loss: 0.5579 - accuracy: 0.7462 - val_loss: 0.5566 - val_accuracy: 0.7386\n",
      "Epoch 8/100\n",
      "313/313 [==============================] - 6s 19ms/step - loss: 0.5427 - accuracy: 0.7566 - val_loss: 0.5429 - val_accuracy: 0.7468\n",
      "Epoch 9/100\n",
      "313/313 [==============================] - 6s 19ms/step - loss: 0.5280 - accuracy: 0.7653 - val_loss: 0.5349 - val_accuracy: 0.7450\n",
      "Epoch 10/100\n",
      "313/313 [==============================] - 6s 20ms/step - loss: 0.5164 - accuracy: 0.7723 - val_loss: 0.5196 - val_accuracy: 0.7652\n",
      "Epoch 11/100\n",
      "313/313 [==============================] - 7s 21ms/step - loss: 0.5055 - accuracy: 0.7779 - val_loss: 0.5095 - val_accuracy: 0.7700\n",
      "Epoch 12/100\n",
      "313/313 [==============================] - 6s 20ms/step - loss: 0.4958 - accuracy: 0.7848 - val_loss: 0.5031 - val_accuracy: 0.7720\n",
      "Epoch 13/100\n",
      "313/313 [==============================] - 6s 20ms/step - loss: 0.4873 - accuracy: 0.7882 - val_loss: 0.4979 - val_accuracy: 0.7722\n",
      "Epoch 14/100\n",
      "313/313 [==============================] - 6s 20ms/step - loss: 0.4796 - accuracy: 0.7921 - val_loss: 0.4903 - val_accuracy: 0.7746\n",
      "Epoch 15/100\n",
      "313/313 [==============================] - 6s 19ms/step - loss: 0.4723 - accuracy: 0.7961 - val_loss: 0.4832 - val_accuracy: 0.7790\n",
      "Epoch 16/100\n",
      "313/313 [==============================] - 6s 19ms/step - loss: 0.4662 - accuracy: 0.7973 - val_loss: 0.4779 - val_accuracy: 0.7814\n",
      "Epoch 17/100\n",
      "313/313 [==============================] - 6s 19ms/step - loss: 0.4605 - accuracy: 0.8003 - val_loss: 0.4740 - val_accuracy: 0.7878\n",
      "Epoch 18/100\n",
      "313/313 [==============================] - 6s 20ms/step - loss: 0.4554 - accuracy: 0.8025 - val_loss: 0.4706 - val_accuracy: 0.7868\n",
      "Epoch 19/100\n",
      "313/313 [==============================] - 6s 20ms/step - loss: 0.4507 - accuracy: 0.8044 - val_loss: 0.4695 - val_accuracy: 0.7886\n",
      "Epoch 20/100\n",
      "313/313 [==============================] - 6s 20ms/step - loss: 0.4469 - accuracy: 0.8063 - val_loss: 0.4641 - val_accuracy: 0.7912\n",
      "Epoch 21/100\n",
      "313/313 [==============================] - 6s 19ms/step - loss: 0.4426 - accuracy: 0.8069 - val_loss: 0.4629 - val_accuracy: 0.7896\n",
      "Epoch 22/100\n",
      "313/313 [==============================] - 6s 20ms/step - loss: 0.4390 - accuracy: 0.8106 - val_loss: 0.4704 - val_accuracy: 0.7828\n",
      "Epoch 23/100\n",
      "313/313 [==============================] - 6s 20ms/step - loss: 0.4363 - accuracy: 0.8106 - val_loss: 0.4646 - val_accuracy: 0.7864\n",
      "Epoch 24/100\n",
      "313/313 [==============================] - 6s 20ms/step - loss: 0.4333 - accuracy: 0.8126 - val_loss: 0.4598 - val_accuracy: 0.7928\n",
      "Epoch 25/100\n",
      "313/313 [==============================] - 6s 20ms/step - loss: 0.4308 - accuracy: 0.8116 - val_loss: 0.4597 - val_accuracy: 0.7894\n",
      "Epoch 26/100\n",
      "313/313 [==============================] - 6s 20ms/step - loss: 0.4280 - accuracy: 0.8143 - val_loss: 0.4540 - val_accuracy: 0.7934\n",
      "Epoch 27/100\n",
      "313/313 [==============================] - 6s 20ms/step - loss: 0.4262 - accuracy: 0.8149 - val_loss: 0.4530 - val_accuracy: 0.7952\n",
      "Epoch 28/100\n",
      "313/313 [==============================] - 6s 20ms/step - loss: 0.4240 - accuracy: 0.8159 - val_loss: 0.4546 - val_accuracy: 0.7978\n",
      "Epoch 29/100\n",
      "313/313 [==============================] - 6s 20ms/step - loss: 0.4225 - accuracy: 0.8162 - val_loss: 0.4521 - val_accuracy: 0.7934\n",
      "Epoch 30/100\n",
      "313/313 [==============================] - 6s 20ms/step - loss: 0.4205 - accuracy: 0.8156 - val_loss: 0.4531 - val_accuracy: 0.7888\n",
      "Epoch 31/100\n",
      "313/313 [==============================] - 6s 20ms/step - loss: 0.4189 - accuracy: 0.8167 - val_loss: 0.4556 - val_accuracy: 0.7940\n",
      "Epoch 32/100\n",
      "313/313 [==============================] - 6s 20ms/step - loss: 0.4178 - accuracy: 0.8184 - val_loss: 0.4545 - val_accuracy: 0.7966\n"
     ]
    }
   ],
   "source": [
    "rmsprop = keras.optimizers.RMSprop(learning_rate =1e-4)\n",
    "model.compile(optimizer= rmsprop , loss=\"binary_crossentropy\",metrics=['accuracy'])\n",
    "checkpoint_cb = keras.callbacks.ModelCheckpoint(\"best-simplernn-model.h5\")\n",
    "early_stopping_cb = keras.callbacks.EarlyStopping(patience=3,restore_best_weights =True)\n",
    "history = model.fit(train_oh,train_target, epochs=100,batch_size=64,validation_data=(val_oh,val_target),callbacks=[checkpoint_cb,early_stopping_cb])"
   ]
  },
  {
   "cell_type": "code",
   "execution_count": 14,
   "metadata": {},
   "outputs": [],
   "source": []
  },
  {
   "cell_type": "code",
   "execution_count": null,
   "outputs": [],
   "source": [],
   "metadata": {
    "collapsed": false
   }
  }
 ],
 "metadata": {
  "kernelspec": {
   "display_name": "Python 3 (ipykernel)",
   "language": "python",
   "name": "python3"
  },
  "language_info": {
   "codemirror_mode": {
    "name": "ipython",
    "version": 3
   },
   "file_extension": ".py",
   "mimetype": "text/x-python",
   "name": "python",
   "nbconvert_exporter": "python",
   "pygments_lexer": "ipython3",
   "version": "3.8.13"
  }
 },
 "nbformat": 4,
 "nbformat_minor": 1
}
