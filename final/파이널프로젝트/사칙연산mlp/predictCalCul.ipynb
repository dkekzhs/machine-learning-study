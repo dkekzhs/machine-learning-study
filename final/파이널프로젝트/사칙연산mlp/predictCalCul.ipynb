{
 "cells": [
  {
   "cell_type": "code",
   "execution_count": 3,
   "metadata": {
    "collapsed": true
   },
   "outputs": [],
   "source": [
    "from keras.models import Sequential\n",
    "import numpy as np\n",
    "import random\n",
    "from tensorflow import keras\n",
    "from keras.layers import *\n",
    "from keras import backend as K\n",
    "from sklearn.preprocessing import MinMaxScaler, normalize, StandardScaler\n",
    "from tensorflow.keras.models import load_model\n",
    "from random import randint\n",
    "import tensorflow as tf\n",
    "from keras.optimizer_v2.adam import Adam\n",
    "from keras.optimizer_v2.adamax import Adamax\n",
    "from keras.optimizer_v2.rmsprop import RMSprop\n",
    "from keras.optimizer_v2.gradient_descent import SGD\n",
    "from sklearn.metrics import r2_score\n",
    "from functools import partial\n",
    "from tensorflow.keras.callbacks import EarlyStopping\n",
    "from random import randint\n",
    "from random import randint\n",
    "# from numpy import sign, abs, log10\n",
    "from keras.callbacks import EarlyStopping\n",
    "from keras.optimizer_v2.adagrad import Adagrad\n",
    "import tensorflow as tf\n",
    "from keras.callbacks import EarlyStopping\n",
    "from sklearn.metrics import r2_score\n",
    "from random import *\n",
    "import pandas as pd\n",
    "import matplotlib.pyplot as plt\n",
    "\n"
   ]
  },
  {
   "cell_type": "markdown",
   "source": [
    "더하기 텐서플로우2.5 맥버전 파이썬 3.8"
   ],
   "metadata": {
    "collapsed": false
   }
  },
  {
   "cell_type": "code",
   "execution_count": 2,
   "outputs": [],
   "source": [
    "def add_test_data2(data_len,data_size):\n",
    "    x = np.array([np.random.randint(-data_len,data_len,size=2)\n",
    "                  for _ in range(data_size)])\n",
    "    y = np.array([[x[i][0] + x[i][1]] for i in range(data_size)])\n",
    "    return x,y"
   ],
   "metadata": {
    "collapsed": false
   }
  },
  {
   "cell_type": "code",
   "execution_count": 3,
   "outputs": [],
   "source": [
    "add_model = load_model(\"./add_model.h5\")\n",
    "\n"
   ],
   "metadata": {
    "collapsed": false
   }
  },
  {
   "cell_type": "code",
   "execution_count": 5,
   "outputs": [
    {
     "name": "stdout",
     "output_type": "stream",
     "text": [
      "데이터 길이 10 : r2 스코어 0.9999999958006036\n",
      "-6 + 5 = \n",
      "WARNING:tensorflow:Model was constructed with shape (None, 2) for input KerasTensor(type_spec=TensorSpec(shape=(None, 2), dtype=tf.float32, name='dense_67_input'), name='dense_67_input', description=\"created by layer 'dense_67_input'\"), but it was called on an input with incompatible shape (None, 1, 2).\n"
     ]
    },
    {
     "name": "stderr",
     "output_type": "stream",
     "text": [
      "2022-12-15 13:56:16.393578: I tensorflow/compiler/mlir/mlir_graph_optimization_pass.cc:176] None of the MLIR Optimization Passes are enabled (registered 2)\n",
      "2022-12-15 13:56:16.393726: W tensorflow/core/platform/profile_utils/cpu_utils.cc:128] Failed to get CPU frequency: 0 Hz\n"
     ]
    },
    {
     "name": "stdout",
     "output_type": "stream",
     "text": [
      "예측  [[[-0.9999902]]]\n",
      "정답 [-1]\n",
      "데이터 길이 100 : r2 스코어 0.9999999999877558\n",
      "-18 + 79 = \n",
      "예측  [[[61.000004]]]\n",
      "정답 [61]\n",
      "데이터 길이 1000 : r2 스코어 0.999999999999488\n",
      "-799 + 723 = \n",
      "예측  [[[-75.99987]]]\n",
      "정답 [-76]\n",
      "데이터 길이 10000 : r2 스코어 0.999999999999385\n",
      "8203 + -9392 = \n",
      "예측  [[[-1188.9985]]]\n",
      "정답 [-1189]\n",
      "데이터 길이 100000 : r2 스코어 0.9999999959390818\n",
      "86255 + 69989 = \n",
      "예측  [[[156244.02]]]\n",
      "정답 [156244]\n",
      "데이터 길이 10000000 : r2 스코어 0.9999999999994488\n",
      "26475 + 5743480 = \n",
      "예측  [[[5769955.5]]]\n",
      "정답 [5769955]\n"
     ]
    }
   ],
   "source": [
    "data_test = [10,100,1000,10000,100000,10000000]\n",
    "for i in data_test:\n",
    "    idx = randint(1,1000)\n",
    "    test_x,test_y = add_test_data2(i,1000)\n",
    "    pred_add_y = add_model.predict(test_x)\n",
    "    print(\"데이터 길이\" , i ,\": r2 스코어\", r2_score(test_y,pred_add_y))\n",
    "    print(test_x[idx][0], \"+\",test_x[idx][1] ,\"= \" )\n",
    "    print(\"예측 \" , add_model.predict(np.array([[test_x[idx]]])))\n",
    "    print(\"정답\", test_y[idx])"
   ],
   "metadata": {
    "collapsed": false
   }
  },
  {
   "cell_type": "markdown",
   "source": [
    "빼기"
   ],
   "metadata": {
    "collapsed": false
   }
  },
  {
   "cell_type": "code",
   "execution_count": 1,
   "outputs": [],
   "source": [
    "def sub_test_data2(data_len,data_size):\n",
    "    x = np.array([np.random.randint(-data_len,data_len,size=2)\n",
    "                  for _ in range(data_size)])\n",
    "    y = np.array([[x[i][0] - x[i][1]] for i in range(data_size)])\n",
    "    return x,y"
   ],
   "metadata": {
    "collapsed": false
   }
  },
  {
   "cell_type": "code",
   "execution_count": 4,
   "outputs": [],
   "source": [
    "sub_model = load_model(\"./sub_model.h5\")\n",
    "\n"
   ],
   "metadata": {
    "collapsed": false
   }
  },
  {
   "cell_type": "code",
   "execution_count": 5,
   "outputs": [
    {
     "name": "stdout",
     "output_type": "stream",
     "text": [
      "데이터 길이 10 : r2 스코어 0.9999997791788842\n",
      "-4 - 5 = \n",
      "WARNING:tensorflow:Model was constructed with shape (None, 2) for input KerasTensor(type_spec=TensorSpec(shape=(None, 2), dtype=tf.float32, name='dense_69_input'), name='dense_69_input', description=\"created by layer 'dense_69_input'\"), but it was called on an input with incompatible shape (None, 1, 2).\n"
     ]
    },
    {
     "name": "stderr",
     "output_type": "stream",
     "text": [
      "2022-12-15 13:58:26.225805: I tensorflow/compiler/mlir/mlir_graph_optimization_pass.cc:176] None of the MLIR Optimization Passes are enabled (registered 2)\n",
      "2022-12-15 13:58:26.225968: W tensorflow/core/platform/profile_utils/cpu_utils.cc:128] Failed to get CPU frequency: 0 Hz\n"
     ]
    },
    {
     "name": "stdout",
     "output_type": "stream",
     "text": [
      "예측  [[[-9.001922]]]\n",
      "정답 [-9]\n",
      "데이터 길이 100 : r2 스코어 0.9999999994870121\n",
      "94 - 20 = \n",
      "예측  [[[74.00028]]]\n",
      "정답 [74]\n",
      "데이터 길이 1000 : r2 스코어 0.9999999999966005\n",
      "233 - -835 = \n",
      "예측  [[[1068.0007]]]\n",
      "정답 [1068]\n",
      "데이터 길이 10000 : r2 스코어 0.9999999999999251\n",
      "7368 - -1505 = \n",
      "예측  [[[8873.002]]]\n",
      "정답 [8873]\n",
      "데이터 길이 100000 : r2 스코어 0.999999999999912\n",
      "-45310 - -89385 = \n",
      "예측  [[[44075.023]]]\n",
      "정답 [44075]\n",
      "데이터 길이 1000000 : r2 스코어 0.9999999999999315\n",
      "33353 - 729129 = \n",
      "예측  [[[-695775.7]]]\n",
      "정답 [-695776]\n"
     ]
    }
   ],
   "source": [
    "data_test = [10,100,1000,10000,100000,1000000]\n",
    "for i in data_test:\n",
    "    idx = randint(1,1000)\n",
    "    sub_test_x, sub_test_y = sub_test_data2(i,1000)\n",
    "    pred_add_y = sub_model.predict(sub_test_x)\n",
    "    print(\"데이터 길이\" , i ,\": r2 스코어\", r2_score(sub_test_y,pred_add_y))\n",
    "    print(sub_test_x[idx][0], \"-\",sub_test_x[idx][1] ,\"= \" )\n",
    "    print(\"예측 \" , sub_model.predict(np.array([[sub_test_x[idx]]])))\n",
    "    print(\"정답\", sub_test_y[idx])"
   ],
   "metadata": {
    "collapsed": false
   }
  },
  {
   "cell_type": "markdown",
   "source": [
    "곱하기"
   ],
   "metadata": {
    "collapsed": false
   }
  },
  {
   "cell_type": "code",
   "execution_count": 8,
   "outputs": [],
   "source": [
    "mul_model = load_model(\"./mul_model.h5\",custom_objects={'leaky_relu':tf.nn.leaky_relu})"
   ],
   "metadata": {
    "collapsed": false
   }
  },
  {
   "cell_type": "code",
   "execution_count": 9,
   "outputs": [],
   "source": [
    "def mul_test_data(data_len,data_size):\n",
    "    x, x2,state = [],[],[]\n",
    "    y_true = []\n",
    "    x_div_true = []\n",
    "    for i in range(data_size):\n",
    "        a = np.random.randint(-data_len,data_len)\n",
    "        a2 = np.random.randint(-data_len,data_len)\n",
    "        x_div_true.append([a,a2])\n",
    "        y_true.append([a*a2])\n",
    "        if a < 0 and a2 < 0 :\n",
    "            x.append([np.log(abs(a))])\n",
    "            x2.append([np.log(abs(a2))])\n",
    "            state.append([1])\n",
    "        elif a > 0 and a2 < 0 :\n",
    "            x.append([np.log(a)])\n",
    "            x2.append([np.log(abs(a2))])\n",
    "            state.append([-1])\n",
    "        elif a < 0 and a2 > 0 :\n",
    "            x.append([np.log(abs(a))])\n",
    "            x2.append([np.log(a2)])\n",
    "            state.append([-1])\n",
    "        elif a < 0 and a2 == 0 :\n",
    "            x.append([np.log(abs(a))])\n",
    "            x2.append([np.log(1)])\n",
    "            state.append([0])\n",
    "        elif a > 0 and a2 == 0 :\n",
    "            x.append([np.log(a)])\n",
    "            x2.append([np.log(1)])\n",
    "            state.append([0])\n",
    "        elif a == 0 and a2 < 0 :\n",
    "            x.append([np.log(1)])\n",
    "            x2.append([np.log(abs(a2))])\n",
    "            state.append([0])\n",
    "        elif a == 0 and a2 > 0 :\n",
    "            x.append([np.log(1)])\n",
    "            x2.append([np.log(a2)])\n",
    "            state.append([0])\n",
    "        elif a==0 and a2 == 0 :\n",
    "            x.append([np.log(1)])\n",
    "            x2.append([np.log(1)])\n",
    "            state.append([0])\n",
    "        else:\n",
    "            x.append([np.log(a)])\n",
    "            x2.append([np.log(a2)])\n",
    "            state.append([1])\n",
    "    x = np.array(x)\n",
    "    x2 = np.array(x2)\n",
    "    state = np.array(state)\n",
    "    y_true = np.array(y_true)\n",
    "    x_div_true = np.array(x_div_true)\n",
    "    x = np.concatenate((x, x2), axis=1)\n",
    "    y = np.array([[x[i][0] + x[i][1]] for i in range(data_size)])\n",
    "    return x,y,y_true,state,x_div_true\n"
   ],
   "metadata": {
    "collapsed": false
   }
  },
  {
   "cell_type": "code",
   "execution_count": 10,
   "outputs": [],
   "source": [
    "def predMulData(x,y,true_y,s):\n",
    "    pred_mul_y_real = np.exp(mul_model.predict(x)) * s\n",
    "    pred_mul_y_before = mul_model.predict(x)\n",
    "\n",
    "    print(\"log(x) + log(x2) r2 스코어 : \", r2_score(y,pred_mul_y_before))\n",
    "    print(\"x * x2 r2 스코어 : \", r2_score(true_y,pred_mul_y_real))\n",
    "    return pred_mul_y_real , true_y"
   ],
   "metadata": {
    "collapsed": false
   }
  },
  {
   "cell_type": "code",
   "execution_count": 11,
   "outputs": [
    {
     "name": "stdout",
     "output_type": "stream",
     "text": [
      "log(x) + log(x2) r2 스코어 :  0.9999999912118616\n",
      "x * x2 r2 스코어 :  0.9999999999949496\n",
      "-7  *  2\n",
      "예측 [-13.99998093]\n",
      "정답 [-14]\n",
      "log(x) + log(x2) r2 스코어 :  0.9999999999759135\n",
      "x * x2 r2 스코어 :  0.9999999999996287\n",
      "-63  *  42\n",
      "예측 [-2645.99804688]\n",
      "정답 [-2646]\n",
      "log(x) + log(x2) r2 스코어 :  0.9999999999997674\n",
      "x * x2 r2 스코어 :  0.9999999999995036\n",
      "-405  *  850\n",
      "예측 [-344249.71875]\n",
      "정답 [-344250]\n",
      "log(x) + log(x2) r2 스코어 :  0.9999999999990322\n",
      "x * x2 r2 스코어 :  0.9999999999965048\n",
      "8770  *  -3228\n",
      "예측 [-28309570.]\n",
      "정답 [-28309560]\n",
      "log(x) + log(x2) r2 스코어 :  0.9999999999970696\n",
      "x * x2 r2 스코어 :  0.9999999999925813\n",
      "10199  *  17573\n",
      "예측 [1.79227696e+08]\n",
      "정답 [179227027]\n"
     ]
    }
   ],
   "source": [
    "data_len = [10,100,1000,10000,100000]\n",
    "for i in data_len:\n",
    "    idx = randint(0,100)\n",
    "    test_mul_x, test_mul_y,true_mul_pred,state,x_true = mul_test_data(i,10000)\n",
    "    pred_mul_y , true_mul_y =predMulData(test_mul_x, test_mul_y,true_mul_pred,state)\n",
    "\n",
    "    print(x_true[idx][0] ,\" * \" ,x_true[idx][1])\n",
    "    print(\"예측\" , pred_mul_y[idx])\n",
    "    print(\"정답\" , true_mul_y[idx])\n",
    "\n"
   ],
   "metadata": {
    "collapsed": false
   }
  },
  {
   "cell_type": "code",
   "execution_count": 12,
   "outputs": [],
   "source": [
    "def mul_data_predict(x,x2):\n",
    "    state = 0\n",
    "    if x < 0 and x2 < 0 :\n",
    "        x = np.log(abs(x))\n",
    "        x2 =np.log(abs(x2))\n",
    "        state = 1\n",
    "    elif x > 0 and x2 < 0 :\n",
    "        x = np.log(x)\n",
    "        x2= np.log(abs(x2))\n",
    "        state = -1\n",
    "    elif x < 0 and x2 > 0 :\n",
    "        x = np.log(abs(x))\n",
    "        x2 = np.log(x2)\n",
    "        state = -1\n",
    "    elif x < 0 and x2 == 0 :\n",
    "        x= np.log(abs(x))\n",
    "        x2 = np.log(1)\n",
    "        state = 0\n",
    "    elif x > 0 and x2 == 0 :\n",
    "        x = np.log(x)\n",
    "        x2 = np.log(1)\n",
    "        state.append([0])\n",
    "    elif x== 0 and x2 < 0 :\n",
    "        x = np.log(1)\n",
    "        x2 = np.log(abs(x2))\n",
    "        state = 0\n",
    "    elif x == 0 and x2 > 0 :\n",
    "        x = np.log(1)\n",
    "        x2 = np.log(x2)\n",
    "        state = 0\n",
    "    elif x==0 and x2 == 0 :\n",
    "        x =np.log(1)\n",
    "        x2 = np.log(1)\n",
    "        state = 0\n",
    "    else:\n",
    "        x = np.log(x)\n",
    "        x2 = np.log(x2)\n",
    "        state = 1\n",
    "    answer = np.exp(mul_model.predict(np.array([[x,x2]]))) *state\n",
    "    return answer\n"
   ],
   "metadata": {
    "collapsed": false
   }
  },
  {
   "cell_type": "code",
   "execution_count": 13,
   "outputs": [
    {
     "data": {
      "text/plain": "array([[7.9999905]], dtype=float32)"
     },
     "execution_count": 13,
     "metadata": {},
     "output_type": "execute_result"
    }
   ],
   "source": [
    "mul_data_predict(2,4)"
   ],
   "metadata": {
    "collapsed": false
   }
  },
  {
   "cell_type": "markdown",
   "source": [
    "나누기"
   ],
   "metadata": {
    "collapsed": false
   }
  },
  {
   "cell_type": "code",
   "execution_count": 14,
   "outputs": [],
   "source": [
    "div_model = load_model(\"./div_model.h5\",custom_objects={'leaky_relu':tf.nn.leaky_relu})"
   ],
   "metadata": {
    "collapsed": false
   }
  },
  {
   "cell_type": "code",
   "execution_count": 15,
   "outputs": [],
   "source": [
    "def div_data_predict(x,x2):\n",
    "    state = 0\n",
    "    if x < 0 and x2 < 0 :\n",
    "        x = np.log(abs(x))\n",
    "        x2 =np.log(abs(x2))\n",
    "        state = 1\n",
    "    elif x > 0 and x2 < 0 :\n",
    "        x = np.log(x)\n",
    "        x2= np.log(abs(x2))\n",
    "        state = -1\n",
    "    elif x < 0 and x2 > 0 :\n",
    "        x = np.log(abs(x))\n",
    "        x2 = np.log(x2)\n",
    "        state = -1\n",
    "    elif x < 0 and x2 == 0 :\n",
    "        x= np.log(abs(x))\n",
    "        x2 = np.log(1)\n",
    "        state = 0\n",
    "    elif x > 0 and x2 == 0 :\n",
    "        x = np.log(x)\n",
    "        x2 = np.log(1)\n",
    "        state.append([0])\n",
    "    elif x== 0 and x2 < 0 :\n",
    "        x = np.log(1)\n",
    "        x2 = np.log(abs(x2))\n",
    "        state = 0\n",
    "    elif x == 0 and x2 > 0 :\n",
    "        x = np.log(1)\n",
    "        x2 = np.log(x2)\n",
    "        state = 0\n",
    "    elif x==0 and x2 == 0 :\n",
    "        x =np.log(1)\n",
    "        x2 = np.log(1)\n",
    "        state = 0\n",
    "    else:\n",
    "        x = np.log(x)\n",
    "        x2 = np.log(x2)\n",
    "        state = 1\n",
    "    answer = np.exp(div_model.predict(np.array([[x,x2]]))) *state\n",
    "    return answer\n"
   ],
   "metadata": {
    "collapsed": false
   }
  },
  {
   "cell_type": "code",
   "execution_count": 16,
   "outputs": [],
   "source": [
    "def div_test_data(data_len,data_size):\n",
    "    x, x2,state = [],[],[]\n",
    "    y_true = []\n",
    "    x_div_true = []\n",
    "    for i in range(data_size):\n",
    "        a = np.random.randint(-data_len,data_len)\n",
    "        a2 = np.random.randint(-data_len,data_len)\n",
    "        x_div_true.append([a,a2])\n",
    "        if a==0 or a2==0:\n",
    "            y_true.append(0)\n",
    "        else:\n",
    "            y_true.append(a/a2)\n",
    "        if a < 0 and a2 < 0 :\n",
    "            x.append([np.log(abs(a))])\n",
    "            x2.append([np.log(abs(a2))])\n",
    "            state.append([1])\n",
    "        elif a > 0 and a2 < 0 :\n",
    "            x.append([np.log(a)])\n",
    "            x2.append([np.log(abs(a2))])\n",
    "            state.append([-1])\n",
    "        elif a < 0 and a2 > 0 :\n",
    "            x.append([np.log(abs(a))])\n",
    "            x2.append([np.log(a2)])\n",
    "            state.append([-1])\n",
    "        elif a < 0 and a2 == 0 :\n",
    "            x.append([np.log(abs(a))])\n",
    "            x2.append([np.log(1)])\n",
    "            state.append([0])\n",
    "        elif a > 0 and a2 == 0 :\n",
    "            x.append([np.log(a)])\n",
    "            x2.append([np.log(1)])\n",
    "            state.append([0])\n",
    "        elif a == 0 and a2 < 0 :\n",
    "            x.append([np.log(1)])\n",
    "            x2.append([np.log(abs(a2))])\n",
    "            state.append([0])\n",
    "        elif a == 0 and a2 > 0 :\n",
    "            x.append([np.log(1)])\n",
    "            x2.append([np.log(a2)])\n",
    "            state.append([0])\n",
    "        elif a==0 and a2 == 0 :\n",
    "            x.append([np.log(1)])\n",
    "            x2.append([np.log(1)])\n",
    "            state.append([0])\n",
    "        else:\n",
    "            x.append([np.log(a)])\n",
    "            x2.append([np.log(a2)])\n",
    "            state.append([1])\n",
    "    x = np.array(x)\n",
    "    x2 = np.array(x2)\n",
    "    x_div_true = np.array(x_div_true)\n",
    "    state = np.array(state)\n",
    "    y_true = np.array(y_true)\n",
    "    x = np.concatenate((x, x2), axis=1)\n",
    "    y = np.array([[x[i][0] - x[i][1]] for i in range(data_size)])\n",
    "\n",
    "    return x,y,y_true,state,x_div_true\n"
   ],
   "metadata": {
    "collapsed": false
   }
  },
  {
   "cell_type": "code",
   "execution_count": 17,
   "outputs": [],
   "source": [
    "def predDivData(x,y,true,s):\n",
    "    pred_div_y_real = np.exp(div_model.predict(x)) * s\n",
    "    pred_div_y_before = div_model.predict(x)\n",
    "    print(\"ln(x) - ln(x2)와 예측 값 r2 스코어: \", r2_score(y,pred_div_y_before))\n",
    "    print(\"x / x2와 예측 값 r2 스코어 : \", r2_score(true,pred_div_y_real))\n",
    "    return pred_div_y_real,true"
   ],
   "metadata": {
    "collapsed": false
   }
  },
  {
   "cell_type": "code",
   "execution_count": 18,
   "outputs": [
    {
     "name": "stdout",
     "output_type": "stream",
     "text": [
      "ln(x) - ln(x2)와 예측 값 r2 스코어:  0.9999999780425667\n",
      "x / x2와 예측 값 r2 스코어 :  0.9999999764464734\n",
      "-4  /  6\n",
      "예측 :  [-0.66656226]\n",
      "정답 :  -0.6666666666666666\n",
      "ln(x) - ln(x2)와 예측 값 r2 스코어:  0.9999999747880283\n",
      "x / x2와 예측 값 r2 스코어 :  0.9999999583829511\n",
      "6  /  12\n",
      "예측 :  [0.49991441]\n",
      "정답 :  0.5\n",
      "ln(x) - ln(x2)와 예측 값 r2 스코어:  0.9999999663438632\n",
      "x / x2와 예측 값 r2 스코어 :  0.9999999436809213\n",
      "891  /  -784\n",
      "예측 :  [-1.13614559]\n",
      "정답 :  -1.1364795918367347\n",
      "ln(x) - ln(x2)와 예측 값 r2 스코어:  0.9999999215258235\n",
      "x / x2와 예측 값 r2 스코어 :  0.9999998608513903\n",
      "56416  /  71518\n",
      "예측 :  [0.78851312]\n",
      "정답 :  0.788836376856176\n",
      "ln(x) - ln(x2)와 예측 값 r2 스코어:  0.9999998597697501\n",
      "x / x2와 예측 값 r2 스코어 :  0.9999998090978848\n",
      "-449957  /  693628\n",
      "예측 :  [-0.64839673]\n",
      "정답 :  -0.6487007444912836\n"
     ]
    }
   ],
   "source": [
    "data_len = [10,100,1000,100000,1000000]\n",
    "for i in data_len:\n",
    "    idx = randint(0,100)\n",
    "    test_div_x,test_div_y,true_div_tar,div_state,true_div_x = div_test_data(i,100)\n",
    "    pred_div_y , true_div_y = predDivData(test_div_x,test_div_y,true_div_tar,div_state)\n",
    "    print(true_div_x[idx][0] , \" / \",true_div_x[idx][1])\n",
    "    print(\"예측 : \", pred_div_y[idx])\n",
    "    print(\"정답 : \", true_div_y[idx])\n",
    "\n",
    "\n"
   ],
   "metadata": {
    "collapsed": false
   }
  },
  {
   "cell_type": "code",
   "execution_count": 19,
   "outputs": [
    {
     "data": {
      "text/plain": "array([[10.998095]], dtype=float32)"
     },
     "execution_count": 19,
     "metadata": {},
     "output_type": "execute_result"
    }
   ],
   "source": [
    "div_data_predict(22,2)"
   ],
   "metadata": {
    "collapsed": false
   }
  },
  {
   "cell_type": "code",
   "execution_count": null,
   "outputs": [],
   "source": [],
   "metadata": {
    "collapsed": false
   }
  }
 ],
 "metadata": {
  "kernelspec": {
   "display_name": "Python 3",
   "language": "python",
   "name": "python3"
  },
  "language_info": {
   "codemirror_mode": {
    "name": "ipython",
    "version": 2
   },
   "file_extension": ".py",
   "mimetype": "text/x-python",
   "name": "python",
   "nbconvert_exporter": "python",
   "pygments_lexer": "ipython2",
   "version": "2.7.6"
  }
 },
 "nbformat": 4,
 "nbformat_minor": 0
}
