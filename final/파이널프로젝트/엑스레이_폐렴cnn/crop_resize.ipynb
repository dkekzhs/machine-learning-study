{
 "cells": [
  {
   "cell_type": "code",
   "execution_count": 1,
   "id": "5a860fc9",
   "metadata": {},
   "outputs": [],
   "source": [
    "import os\n",
    "import cv2\n",
    "import time\n",
    "import pandas as pd\n",
    "import numpy as np\n",
    "import tensorflow as tf\n",
    "from tensorflow import keras\n",
    "from tensorflow.keras.models import load_model\n",
    "from sklearn.utils import shuffle\n",
    "from sklearn.model_selection import train_test_split\n",
    "from keras.callbacks import EarlyStopping"
   ]
  },
  {
   "cell_type": "code",
   "execution_count": 2,
   "id": "de139e65",
   "metadata": {},
   "outputs": [],
   "source": [
    "path= \"./crop_resize\"\n",
    "train_file_0= os.listdir(path+ \"/train/NORMAL\")\n",
    "train_file_1= os.listdir(path+ \"/train/PNEUMONIA\")\n",
    "test_file_0= os.listdir(path+ \"/test/NORMAL\")\n",
    "test_file_1= os.listdir(path+ \"/test/PNEUMONIA\")"
   ]
  },
  {
   "cell_type": "code",
   "execution_count": 3,
   "id": "4e99ee85",
   "metadata": {},
   "outputs": [],
   "source": [
    "X_full= 0\n",
    "check= False\n",
    "\n",
    "for file in train_file_0:\n",
    "    img_in= cv2.imread(path+ \"/train/NORMAL/\"+ file, cv2.IMREAD_GRAYSCALE)\n",
    "    img_res= cv2.resize(img_in, dsize= (100, 100), interpolation= cv2.INTER_LINEAR)\n",
    "    img_round= img_res/255\n",
    "    img_resh= img_round.reshape((100, 100, 1))\n",
    "    img= img_resh.reshape((1, )+ img_resh.shape)\n",
    "    \n",
    "    if(check== False):\n",
    "        X_full= img\n",
    "        check= True\n",
    "    else:\n",
    "        X_full= np.vstack((X_full, img))\n",
    "\n",
    "for file in train_file_1:\n",
    "    img_in= cv2.imread(path+ \"/train/PNEUMONIA/\"+ file, cv2.IMREAD_GRAYSCALE)\n",
    "    img_res= cv2.resize(img_in, dsize= (100, 100), interpolation= cv2.INTER_LINEAR)\n",
    "    img_round= img_res/255\n",
    "    img_resh= img_round.reshape((100, 100, 1))\n",
    "    img= img_resh.reshape((1, )+ img_resh.shape)\n",
    "    X_full= np.vstack((X_full, img))\n"
   ]
  },
  {
   "cell_type": "code",
   "execution_count": 4,
   "id": "819e27c1",
   "metadata": {},
   "outputs": [],
   "source": [
    "y_full= np.array([0]* len(train_file_0))\n",
    "y_full_1= np.array([1]* len(train_file_1))\n",
    "y_full= np.append(y_full, y_full_1)\n"
   ]
  },
  {
   "cell_type": "code",
   "execution_count": 5,
   "id": "84d91e14",
   "metadata": {},
   "outputs": [],
   "source": [
    "X_test, y_train= shuffle(X_full, y_full, random_state= 42)"
   ]
  },
  {
   "cell_type": "code",
   "execution_count": 6,
   "id": "4d7bd9b4",
   "metadata": {},
   "outputs": [],
   "source": [
    "X_train, X_val, y_train, y_val= train_test_split(X_full, y_full, test_size= 0.25)"
   ]
  },
  {
   "cell_type": "code",
   "execution_count": 7,
   "id": "8f21401e",
   "metadata": {},
   "outputs": [],
   "source": [
    "np.save(\"./dataset/X_train\", X_train)\n",
    "np.save(\"./dataset/y_train\", y_train)\n",
    "np.save(\"./dataset/X_val\", X_val)\n",
    "np.save(\"./dataset/y_val\", y_val)"
   ]
  },
  {
   "cell_type": "code",
   "execution_count": 8,
   "id": "a9e1b02f",
   "metadata": {},
   "outputs": [],
   "source": [
    "X_test= 0\n",
    "check= False\n",
    "\n",
    "for file in test_file_0:\n",
    "    img_in= cv2.imread(path+ \"/test/NORMAL/\"+ file, cv2.IMREAD_GRAYSCALE)\n",
    "    img_res= cv2.resize(img_in, dsize= (100, 100), interpolation= cv2.INTER_LINEAR)\n",
    "    img_round= img_res/255\n",
    "    img_resh= img_round.reshape((100, 100, 1))\n",
    "    img= img_resh.reshape((1, )+ img_resh.shape)\n",
    "    \n",
    "    if(check== False):\n",
    "        X_test= img\n",
    "        check= True\n",
    "    else:\n",
    "        X_test= np.vstack((X_test, img))\n",
    "\n",
    "for file in test_file_1:\n",
    "    img_in= cv2.imread(path+ \"/test/PNEUMONIA/\"+ file, cv2.IMREAD_GRAYSCALE)\n",
    "    img_res= cv2.resize(img_in, dsize= (100, 100), interpolation= cv2.INTER_LINEAR)\n",
    "    img_round= img_res/255\n",
    "    img_resh= img_round.reshape((100, 100, 1))\n",
    "    img= img_resh.reshape((1, )+ img_resh.shape)\n",
    "    X_test= np.vstack((X_test, img))\n"
   ]
  },
  {
   "cell_type": "code",
   "execution_count": 9,
   "id": "e8c34435",
   "metadata": {},
   "outputs": [],
   "source": [
    "y_test= np.array([0]* len(test_file_0))\n",
    "y_test_1= np.array([1]* len(test_file_1))\n",
    "y_test= np.append(y_test, y_test_1)"
   ]
  },
  {
   "cell_type": "code",
   "execution_count": 10,
   "id": "163b0f3e",
   "metadata": {},
   "outputs": [],
   "source": [
    "X_test, y_test= shuffle(X_test, y_test, random_state= 42)"
   ]
  },
  {
   "cell_type": "code",
   "execution_count": 11,
   "id": "13ed7b7b",
   "metadata": {},
   "outputs": [],
   "source": [
    "np.save(\"./dataset/X_test\", X_test)\n",
    "np.save(\"./dataset/y_test\", y_test)"
   ]
  },
  {
   "cell_type": "code",
   "execution_count": 12,
   "id": "91a2dda5",
   "metadata": {},
   "outputs": [],
   "source": [
    "X_train= np.load(\"./dataset/X_train.npy\")\n",
    "y_train= np.load(\"./dataset/y_train.npy\")\n",
    "X_val= np.load(\"./dataset/X_val.npy\")\n",
    "y_val= np.load(\"./dataset/y_val.npy\")\n",
    "X_test= np.load(\"./dataset/X_test.npy\")\n",
    "y_test= np.load(\"./dataset/y_test.npy\")"
   ]
  },
  {
   "cell_type": "code",
   "execution_count": 13,
   "id": "fe1c8596",
   "metadata": {},
   "outputs": [],
   "source": [
    "model= keras.models.Sequential()"
   ]
  },
  {
   "cell_type": "code",
   "execution_count": 14,
   "id": "425a76e9",
   "metadata": {},
   "outputs": [],
   "source": [
    "model.add(keras.layers.Conv2D(64, 10, activation= \"relu\", padding= \"same\", input_shape= [100, 100, 1]))\n",
    "model.add(keras.layers.MaxPooling2D(2))\n",
    "model.add(keras.layers.Flatten())\n",
    "model.add(keras.layers.Dense(32, activation= \"relu\"))\n",
    "model.add(keras.layers.Dropout(0.5))\n",
    "model.add(keras.layers.Dense(2, activation= \"softmax\"))\n"
   ]
  },
  {
   "cell_type": "code",
   "execution_count": 15,
   "id": "845f9997",
   "metadata": {},
   "outputs": [],
   "source": [
    "model.compile(loss= \"sparse_categorical_crossentropy\", optimizer= \"sgd\", metrics= [\"accuracy\"])"
   ]
  },
  {
   "cell_type": "code",
   "execution_count": 16,
   "id": "6c403e36",
   "metadata": {},
   "outputs": [
    {
     "name": "stdout",
     "output_type": "stream",
     "text": [
      "Model: \"sequential\"\n",
      "_________________________________________________________________\n",
      " Layer (type)                Output Shape              Param #   \n",
      "=================================================================\n",
      " conv2d (Conv2D)             (None, 100, 100, 64)      6464      \n",
      "                                                                 \n",
      " max_pooling2d (MaxPooling2D  (None, 50, 50, 64)       0         \n",
      " )                                                               \n",
      "                                                                 \n",
      " flatten (Flatten)           (None, 160000)            0         \n",
      "                                                                 \n",
      " dense (Dense)               (None, 32)                5120032   \n",
      "                                                                 \n",
      " dropout (Dropout)           (None, 32)                0         \n",
      "                                                                 \n",
      " dense_1 (Dense)             (None, 2)                 66        \n",
      "                                                                 \n",
      "=================================================================\n",
      "Total params: 5,126,562\n",
      "Trainable params: 5,126,562\n",
      "Non-trainable params: 0\n",
      "_________________________________________________________________\n"
     ]
    }
   ],
   "source": [
    "model.summary()"
   ]
  },
  {
   "cell_type": "code",
   "execution_count": 17,
   "id": "cc61f957",
   "metadata": {
    "scrolled": true
   },
   "outputs": [
    {
     "name": "stdout",
     "output_type": "stream",
     "text": [
      "Epoch 1/30\n",
      "123/123 [==============================] - 22s 175ms/step - loss: 0.5640 - accuracy: 0.7394 - val_loss: 0.5848 - val_accuracy: 0.7454\n",
      "Epoch 2/30\n",
      "123/123 [==============================] - 21s 173ms/step - loss: 0.4869 - accuracy: 0.7419 - val_loss: 0.3965 - val_accuracy: 0.7454\n",
      "Epoch 3/30\n",
      "123/123 [==============================] - 21s 173ms/step - loss: 0.4166 - accuracy: 0.7419 - val_loss: 0.5767 - val_accuracy: 0.7454\n",
      "Epoch 4/30\n",
      "123/123 [==============================] - 22s 176ms/step - loss: 0.3866 - accuracy: 0.8130 - val_loss: 0.3665 - val_accuracy: 0.8075\n",
      "Epoch 5/30\n",
      "123/123 [==============================] - 22s 182ms/step - loss: 0.3508 - accuracy: 0.8563 - val_loss: 0.2984 - val_accuracy: 0.8589\n",
      "Epoch 6/30\n",
      "123/123 [==============================] - 23s 185ms/step - loss: 0.3313 - accuracy: 0.8747 - val_loss: 0.2906 - val_accuracy: 0.8819\n",
      "Epoch 7/30\n",
      "123/123 [==============================] - 22s 181ms/step - loss: 0.3216 - accuracy: 0.8900 - val_loss: 0.2632 - val_accuracy: 0.9202\n",
      "Epoch 8/30\n",
      "123/123 [==============================] - 22s 179ms/step - loss: 0.3049 - accuracy: 0.8918 - val_loss: 0.2559 - val_accuracy: 0.9110\n",
      "Epoch 9/30\n",
      "123/123 [==============================] - 21s 173ms/step - loss: 0.2879 - accuracy: 0.8992 - val_loss: 0.7245 - val_accuracy: 0.4578\n",
      "Epoch 10/30\n",
      "123/123 [==============================] - 21s 173ms/step - loss: 0.3370 - accuracy: 0.8593 - val_loss: 0.3699 - val_accuracy: 0.8574\n",
      "Epoch 11/30\n",
      "123/123 [==============================] - 21s 173ms/step - loss: 0.3003 - accuracy: 0.8818 - val_loss: 0.2396 - val_accuracy: 0.9210\n",
      "Epoch 12/30\n",
      "123/123 [==============================] - 21s 173ms/step - loss: 0.2833 - accuracy: 0.8928 - val_loss: 0.2635 - val_accuracy: 0.9118\n",
      "Epoch 13/30\n",
      "123/123 [==============================] - 21s 174ms/step - loss: 0.2776 - accuracy: 0.8954 - val_loss: 0.2205 - val_accuracy: 0.9302\n",
      "Epoch 14/30\n",
      "123/123 [==============================] - 21s 173ms/step - loss: 0.2626 - accuracy: 0.9090 - val_loss: 0.2191 - val_accuracy: 0.9325\n",
      "Epoch 15/30\n",
      "123/123 [==============================] - 21s 173ms/step - loss: 0.2599 - accuracy: 0.9182 - val_loss: 0.5421 - val_accuracy: 0.8144\n",
      "Epoch 16/30\n",
      "123/123 [==============================] - 21s 174ms/step - loss: 0.2423 - accuracy: 0.9223 - val_loss: 0.2241 - val_accuracy: 0.9317\n",
      "Epoch 17/30\n",
      "123/123 [==============================] - 21s 172ms/step - loss: 0.2544 - accuracy: 0.9176 - val_loss: 0.2232 - val_accuracy: 0.9333\n",
      "Epoch 18/30\n",
      "123/123 [==============================] - 21s 173ms/step - loss: 0.2393 - accuracy: 0.9189 - val_loss: 0.2076 - val_accuracy: 0.9325\n",
      "Epoch 19/30\n",
      "123/123 [==============================] - 21s 174ms/step - loss: 0.2362 - accuracy: 0.9263 - val_loss: 0.2092 - val_accuracy: 0.9333\n",
      "Epoch 20/30\n",
      "123/123 [==============================] - 22s 176ms/step - loss: 0.2387 - accuracy: 0.9233 - val_loss: 0.3252 - val_accuracy: 0.8719\n",
      "Epoch 21/30\n",
      "123/123 [==============================] - 21s 174ms/step - loss: 0.2330 - accuracy: 0.9166 - val_loss: 0.2100 - val_accuracy: 0.9310\n",
      "Epoch 22/30\n",
      "123/123 [==============================] - 22s 178ms/step - loss: 0.2298 - accuracy: 0.9263 - val_loss: 0.1893 - val_accuracy: 0.9410\n",
      "Epoch 23/30\n",
      "123/123 [==============================] - 21s 174ms/step - loss: 0.2295 - accuracy: 0.9279 - val_loss: 0.1973 - val_accuracy: 0.9363\n",
      "Epoch 24/30\n",
      "123/123 [==============================] - 21s 173ms/step - loss: 0.2193 - accuracy: 0.9274 - val_loss: 0.3030 - val_accuracy: 0.8620\n",
      "Epoch 25/30\n",
      "123/123 [==============================] - 21s 173ms/step - loss: 0.2249 - accuracy: 0.9258 - val_loss: 0.2487 - val_accuracy: 0.9264\n",
      "Epoch 26/30\n",
      "123/123 [==============================] - 22s 177ms/step - loss: 0.2196 - accuracy: 0.9297 - val_loss: 0.1896 - val_accuracy: 0.9387\n",
      "Epoch 27/30\n",
      "123/123 [==============================] - 21s 174ms/step - loss: 0.2165 - accuracy: 0.9279 - val_loss: 0.2092 - val_accuracy: 0.9348\n",
      "Epoch 28/30\n",
      "123/123 [==============================] - 21s 174ms/step - loss: 0.2154 - accuracy: 0.9271 - val_loss: 0.2209 - val_accuracy: 0.9356\n",
      "Epoch 29/30\n",
      "123/123 [==============================] - 21s 174ms/step - loss: 0.2076 - accuracy: 0.9322 - val_loss: 0.1783 - val_accuracy: 0.9417\n",
      "Epoch 30/30\n",
      "123/123 [==============================] - 21s 173ms/step - loss: 0.2111 - accuracy: 0.9263 - val_loss: 0.1783 - val_accuracy: 0.9440\n",
      "time:  645.995707988739\n"
     ]
    }
   ],
   "source": [
    "start_time= time.time()\n",
    "history= model.fit(X_train, y_train, epochs= 30, validation_data= (X_val, y_val))\n",
    "end_time= time.time()\n",
    "print(\"time: \", end_time- start_time)"
   ]
  },
  {
   "cell_type": "code",
   "execution_count": 18,
   "id": "eec32887",
   "metadata": {},
   "outputs": [
    {
     "name": "stderr",
     "output_type": "stream",
     "text": [
      "WARNING:absl:Found untraced functions such as _jit_compiled_convolution_op, _update_step_xla while saving (showing 2 of 2). These functions will not be directly callable after loading.\n"
     ]
    },
    {
     "name": "stdout",
     "output_type": "stream",
     "text": [
      "INFO:tensorflow:Assets written to: ./model/learning_model\\assets\n"
     ]
    },
    {
     "name": "stderr",
     "output_type": "stream",
     "text": [
      "INFO:tensorflow:Assets written to: ./model/learning_model\\assets\n"
     ]
    }
   ],
   "source": [
    "model.save(\"./model/learning_model\")"
   ]
  },
  {
   "cell_type": "code",
   "execution_count": 19,
   "id": "6cdaf21e",
   "metadata": {},
   "outputs": [],
   "source": [
    "import pandas as pd\n",
    "import matplotlib.pyplot as plt"
   ]
  },
  {
   "cell_type": "code",
   "execution_count": 20,
   "id": "d5ca3cf2",
   "metadata": {},
   "outputs": [
    {
     "data": {
      "image/png": "[encoded data removed]",
      "text/plain": [
       "<Figure size 576x360 with 1 Axes>"
      ]
     },
     "metadata": {
      "needs_background": "light"
     },
     "output_type": "display_data"
    }
   ],
   "source": [
    "pd.DataFrame(history.history).plot(figsize= (8, 5))\n",
    "plt.grid(True)\n",
    "plt.gca().set_ylim(0, 1)\n",
    "plt.show()\n"
   ]
  },
  {
   "cell_type": "code",
   "execution_count": 21,
   "id": "3d872b44",
   "metadata": {},
   "outputs": [
    {
     "name": "stdout",
     "output_type": "stream",
     "text": [
      "20/20 [==============================] - 1s 38ms/step\n"
     ]
    },
    {
     "data": {
      "text/plain": [
       "array([1, 0, 1, 0, 1, 1, 1, 0, 1, 1, 1, 1, 0, 0, 1, 0, 1, 1, 1, 1, 0, 0,\n",
       "       1, 1, 1, 0, 1, 1, 1, 1, 1, 1, 1, 1, 1, 1, 1, 1, 1, 1, 1, 0, 0, 1,\n",
       "       1, 1, 1, 1, 0, 1, 1, 1, 1, 1, 1, 1, 1, 1, 1, 1, 1, 1, 0, 1, 1, 1,\n",
       "       1, 1, 1, 1, 1, 1, 0, 1, 1, 1, 1, 0, 1, 1, 1, 0, 1, 1, 1, 1, 1, 1,\n",
       "       1, 1, 1, 1, 1, 1, 1, 1, 1, 1, 1, 1, 1, 1, 1, 1, 1, 0, 1, 1, 1, 1,\n",
       "       0, 0, 1, 1, 1, 1, 1, 1, 1, 0, 1, 1, 1, 1, 0, 1, 1, 0, 1, 0, 1, 0,\n",
       "       1, 1, 1, 1, 1, 1, 1, 1, 0, 1, 0, 1, 1, 1, 1, 1, 1, 1, 0, 0, 1, 1,\n",
       "       1, 0, 1, 1, 1, 1, 1, 1, 1, 1, 1, 0, 1, 1, 1, 1, 1, 1, 0, 1, 1, 1,\n",
       "       1, 1, 1, 1, 1, 1, 1, 0, 1, 1, 0, 1, 1, 1, 1, 1, 1, 1, 0, 1, 1, 1,\n",
       "       1, 1, 1, 1, 1, 1, 0, 1, 1, 1, 1, 0, 1, 1, 1, 1, 1, 1, 0, 1, 1, 1,\n",
       "       1, 1, 1, 1, 1, 1, 1, 1, 1, 1, 1, 1, 1, 1, 1, 1, 1, 1, 1, 1, 1, 1,\n",
       "       1, 0, 1, 1, 1, 1, 1, 1, 0, 1, 1, 1, 0, 1, 1, 1, 1, 1, 1, 0, 1, 1,\n",
       "       1, 1, 1, 1, 1, 1, 1, 1, 1, 1, 1, 1, 1, 0, 1, 1, 1, 1, 1, 1, 1, 1,\n",
       "       1, 1, 1, 0, 1, 1, 1, 1, 1, 1, 1, 1, 1, 1, 1, 1, 1, 1, 1, 1, 1, 1,\n",
       "       1, 1, 1, 1, 1, 1, 1, 1, 1, 1, 0, 1, 1, 0, 1, 1, 1, 1, 1, 0, 1, 1,\n",
       "       1, 1, 1, 0, 1, 1, 0, 1, 1, 1, 1, 1, 1, 1, 0, 1, 1, 1, 1, 1, 1, 1,\n",
       "       1, 1, 1, 1, 1, 1, 0, 1, 1, 1, 1, 1, 0, 1, 1, 1, 1, 1, 1, 0, 1, 1,\n",
       "       1, 1, 0, 1, 1, 1, 0, 1, 1, 1, 1, 1, 1, 1, 1, 1, 1, 1, 1, 1, 1, 1,\n",
       "       1, 1, 1, 1, 1, 1, 1, 1, 1, 1, 0, 1, 1, 1, 1, 1, 1, 1, 1, 0, 1, 1,\n",
       "       1, 1, 1, 1, 1, 1, 1, 1, 1, 1, 1, 0, 1, 1, 1, 1, 1, 1, 1, 0, 0, 1,\n",
       "       1, 1, 1, 1, 0, 1, 1, 1, 1, 1, 1, 1, 1, 1, 1, 1, 1, 1, 1, 1, 1, 1,\n",
       "       1, 1, 1, 1, 1, 0, 1, 1, 1, 1, 0, 0, 1, 1, 1, 1, 1, 1, 1, 0, 1, 1,\n",
       "       1, 1, 1, 1, 1, 1, 1, 0, 1, 1, 1, 0, 1, 1, 1, 0, 0, 1, 1, 1, 1, 1,\n",
       "       1, 1, 0, 1, 1, 0, 1, 1, 1, 1, 1, 1, 1, 1, 1, 1, 1, 1, 1, 1, 1, 1,\n",
       "       1, 1, 1, 1, 1, 1, 1, 1, 1, 1, 1, 1, 0, 1, 1, 1, 1, 1, 0, 1, 1, 1,\n",
       "       1, 1, 1, 1, 1, 1, 0, 0, 1, 1, 1, 1, 1, 1, 1, 1, 1, 1, 1, 1, 1, 1,\n",
       "       1, 0, 1, 1, 1, 1, 0, 1, 1, 1, 1, 1, 1, 1, 1, 1, 1, 1, 1, 1, 1, 1,\n",
       "       1, 1, 1, 0, 1, 1, 1, 1, 1, 1, 1, 1, 1, 1, 1, 0, 1, 0, 1, 1, 0, 1,\n",
       "       1, 1, 1, 1, 1, 1, 1, 0], dtype=int64)"
      ]
     },
     "execution_count": 21,
     "metadata": {},
     "output_type": "execute_result"
    }
   ],
   "source": [
    "y_pred=np.argmax(model.predict(X_test), axis=-1)\n",
    "y_pred"
   ]
  },
  {
   "cell_type": "code",
   "execution_count": 22,
   "id": "a0f72652",
   "metadata": {},
   "outputs": [
    {
     "data": {
      "text/plain": [
       "array([1, 1, 0, 0, 1, 1, 0, 0, 1, 0, 1, 0, 0, 0, 1, 0, 0, 1, 1, 1, 0, 0,\n",
       "       0, 1, 1, 0, 1, 1, 1, 1, 1, 1, 0, 1, 0, 1, 1, 1, 0, 1, 1, 0, 0, 1,\n",
       "       1, 0, 1, 1, 0, 1, 1, 1, 0, 1, 1, 1, 0, 1, 0, 0, 1, 1, 0, 1, 1, 1,\n",
       "       0, 0, 1, 1, 1, 0, 0, 0, 1, 0, 1, 0, 1, 1, 1, 0, 1, 1, 0, 1, 1, 1,\n",
       "       0, 1, 1, 1, 0, 1, 0, 0, 1, 1, 1, 1, 0, 1, 1, 1, 0, 0, 1, 0, 1, 0,\n",
       "       0, 0, 0, 1, 1, 0, 1, 1, 1, 0, 0, 1, 0, 1, 0, 1, 1, 0, 0, 0, 1, 1,\n",
       "       1, 1, 1, 1, 1, 1, 1, 1, 0, 1, 0, 0, 1, 0, 0, 1, 1, 1, 0, 0, 1, 1,\n",
       "       0, 0, 1, 1, 0, 1, 1, 0, 0, 1, 1, 0, 0, 1, 1, 1, 1, 1, 0, 1, 1, 1,\n",
       "       1, 1, 1, 1, 1, 0, 0, 0, 1, 0, 0, 1, 0, 0, 1, 0, 1, 1, 0, 0, 1, 1,\n",
       "       1, 1, 1, 1, 0, 1, 0, 0, 0, 1, 1, 0, 1, 1, 0, 1, 1, 1, 1, 1, 1, 1,\n",
       "       1, 0, 0, 1, 0, 0, 1, 1, 0, 1, 0, 1, 1, 1, 1, 1, 0, 1, 1, 1, 1, 1,\n",
       "       1, 0, 1, 1, 1, 1, 1, 1, 0, 0, 1, 1, 0, 1, 1, 1, 1, 1, 0, 0, 0, 1,\n",
       "       1, 0, 1, 1, 1, 1, 1, 1, 0, 0, 1, 0, 0, 0, 1, 0, 0, 1, 1, 1, 1, 0,\n",
       "       1, 1, 1, 0, 0, 1, 1, 1, 1, 0, 0, 1, 1, 1, 0, 0, 1, 1, 0, 1, 1, 1,\n",
       "       1, 1, 1, 0, 0, 1, 1, 0, 0, 0, 0, 1, 1, 0, 1, 1, 0, 1, 1, 1, 1, 0,\n",
       "       1, 0, 1, 0, 1, 0, 0, 1, 1, 0, 1, 1, 0, 1, 0, 1, 1, 0, 1, 1, 1, 0,\n",
       "       1, 1, 1, 1, 0, 1, 0, 0, 1, 1, 1, 0, 0, 1, 1, 1, 1, 1, 1, 0, 1, 1,\n",
       "       1, 1, 0, 1, 1, 0, 1, 1, 0, 1, 1, 0, 1, 1, 1, 1, 0, 1, 0, 0, 1, 1,\n",
       "       1, 0, 1, 1, 1, 1, 1, 1, 0, 0, 0, 1, 1, 1, 1, 1, 1, 1, 1, 0, 1, 1,\n",
       "       1, 0, 1, 0, 0, 0, 1, 1, 1, 1, 1, 0, 1, 1, 1, 1, 1, 1, 1, 0, 0, 1,\n",
       "       1, 1, 1, 1, 0, 0, 0, 1, 1, 0, 1, 0, 1, 0, 1, 1, 0, 0, 0, 1, 1, 1,\n",
       "       1, 0, 1, 1, 1, 0, 1, 1, 1, 1, 0, 0, 1, 1, 0, 1, 0, 0, 0, 0, 1, 0,\n",
       "       1, 0, 1, 0, 0, 0, 0, 0, 0, 1, 1, 1, 1, 0, 1, 0, 0, 1, 1, 1, 1, 0,\n",
       "       1, 1, 0, 1, 1, 0, 1, 1, 1, 0, 0, 1, 0, 1, 1, 0, 0, 0, 0, 0, 1, 0,\n",
       "       1, 1, 1, 1, 1, 1, 0, 0, 1, 0, 1, 1, 0, 0, 0, 0, 1, 1, 0, 0, 0, 1,\n",
       "       1, 1, 1, 1, 1, 1, 0, 0, 1, 1, 1, 0, 1, 0, 1, 1, 0, 0, 0, 1, 1, 1,\n",
       "       1, 0, 1, 1, 1, 1, 0, 1, 1, 1, 0, 1, 1, 1, 1, 1, 1, 1, 0, 1, 1, 0,\n",
       "       1, 1, 1, 0, 1, 1, 0, 1, 0, 1, 1, 1, 1, 1, 0, 0, 1, 0, 1, 1, 0, 1,\n",
       "       0, 1, 0, 0, 0, 1, 1, 0])"
      ]
     },
     "execution_count": 22,
     "metadata": {},
     "output_type": "execute_result"
    }
   ],
   "source": [
    "y_test"
   ]
  },
  {
   "cell_type": "code",
   "execution_count": 23,
   "id": "b918cb58",
   "metadata": {},
   "outputs": [
    {
     "name": "stdout",
     "output_type": "stream",
     "text": [
      "accuracy:  0.7355769230769231\n"
     ]
    }
   ],
   "source": [
    "accuracy= 0\n",
    "\n",
    "for i in range(len(y_test)):\n",
    "    if(y_test[i]== y_pred[i]).all():\n",
    "        accuracy+= 1\n",
    "        \n",
    "print(\"accuracy: \", accuracy/len(y_test))"
   ]
  },
  {
   "cell_type": "code",
   "execution_count": null,
   "id": "ff643825",
   "metadata": {},
   "outputs": [],
   "source": []
  }
 ],
 "metadata": {
  "kernelspec": {
   "display_name": "Python 3 (ipykernel)",
   "language": "python",
   "name": "python3"
  },
  "language_info": {
   "codemirror_mode": {
    "name": "ipython",
    "version": 3
   },
   "file_extension": ".py",
   "mimetype": "text/x-python",
   "name": "python",
   "nbconvert_exporter": "python",
   "pygments_lexer": "ipython3",
   "version": "3.9.12"
  }
 },
 "nbformat": 4,
 "nbformat_minor": 5
}
