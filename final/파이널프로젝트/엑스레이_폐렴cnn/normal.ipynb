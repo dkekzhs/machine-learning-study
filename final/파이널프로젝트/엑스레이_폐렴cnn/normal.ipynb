{
 "cells": [
  {
   "cell_type": "code",
   "execution_count": 1,
   "id": "54537a15",
   "metadata": {},
   "outputs": [],
   "source": [
    "import os\n",
    "import cv2\n",
    "import time\n",
    "import pandas as pd\n",
    "import numpy as np\n",
    "import tensorflow as tf\n",
    "from tensorflow import keras\n",
    "from tensorflow.keras.models import load_model\n",
    "from sklearn.utils import shuffle\n",
    "from sklearn.model_selection import train_test_split\n",
    "from keras.callbacks import EarlyStopping"
   ]
  },
  {
   "cell_type": "code",
   "execution_count": 2,
   "id": "63690d09",
   "metadata": {},
   "outputs": [],
   "source": [
    "path= \"./data\"\n",
    "train_file_0= os.listdir(path+ \"/train/NORMAL\")\n",
    "train_file_1= os.listdir(path+ \"/train/PNEUMONIA\")\n",
    "test_file_0= os.listdir(path+ \"/test/NORMAL\")\n",
    "test_file_1= os.listdir(path+ \"/test/PNEUMONIA\")"
   ]
  },
  {
   "cell_type": "code",
   "execution_count": 3,
   "id": "f004031c",
   "metadata": {},
   "outputs": [],
   "source": [
    "X_full= 0\n",
    "check= False\n",
    "\n",
    "for file in train_file_0:\n",
    "    img_in= cv2.imread(path+ \"/train/NORMAL/\"+ file, cv2.IMREAD_GRAYSCALE)\n",
    "    img_res= cv2.resize(img_in, dsize= (100, 100), interpolation= cv2.INTER_LINEAR)\n",
    "    img_round= img_res/255\n",
    "    img_resh= img_round.reshape((100, 100, 1))\n",
    "    img= img_resh.reshape((1, )+ img_resh.shape)\n",
    "    \n",
    "    if(check== False):\n",
    "        X_full= img\n",
    "        check= True\n",
    "    else:\n",
    "        X_full= np.vstack((X_full, img))\n",
    "\n",
    "for file in train_file_1:\n",
    "    img_in= cv2.imread(path+ \"/train/PNEUMONIA/\"+ file, cv2.IMREAD_GRAYSCALE)\n",
    "    img_res= cv2.resize(img_in, dsize= (100, 100), interpolation= cv2.INTER_LINEAR)\n",
    "    img_round= img_res/255\n",
    "    img_resh= img_round.reshape((100, 100, 1))\n",
    "    img= img_resh.reshape((1, )+ img_resh.shape)\n",
    "    X_full= np.vstack((X_full, img))\n"
   ]
  },
  {
   "cell_type": "code",
   "execution_count": 4,
   "id": "b777aef2",
   "metadata": {},
   "outputs": [],
   "source": [
    "y_full= np.array([0]* len(train_file_0))\n",
    "y_full_1= np.array([1]* len(train_file_1))\n",
    "y_full= np.append(y_full, y_full_1)\n"
   ]
  },
  {
   "cell_type": "code",
   "execution_count": 5,
   "id": "7b6021f0",
   "metadata": {},
   "outputs": [],
   "source": [
    "X_test, y_train= shuffle(X_full, y_full, random_state= 42)"
   ]
  },
  {
   "cell_type": "code",
   "execution_count": 6,
   "id": "0196f5d7",
   "metadata": {},
   "outputs": [],
   "source": [
    "X_train, X_val, y_train, y_val= train_test_split(X_full, y_full, test_size= 0.25)"
   ]
  },
  {
   "cell_type": "code",
   "execution_count": 7,
   "id": "a6a698b4",
   "metadata": {},
   "outputs": [],
   "source": [
    "np.save(\"./dataset/X_train\", X_train)\n",
    "np.save(\"./dataset/y_train\", y_train)\n",
    "np.save(\"./dataset/X_val\", X_val)\n",
    "np.save(\"./dataset/y_val\", y_val)"
   ]
  },
  {
   "cell_type": "code",
   "execution_count": 8,
   "id": "8bbf28c4",
   "metadata": {},
   "outputs": [],
   "source": [
    "X_test= 0\n",
    "check= False\n",
    "\n",
    "for file in test_file_0:\n",
    "    img_in= cv2.imread(path+ \"/test/NORMAL/\"+ file, cv2.IMREAD_GRAYSCALE)\n",
    "    img_res= cv2.resize(img_in, dsize= (100, 100), interpolation= cv2.INTER_LINEAR)\n",
    "    img_round= img_res/255\n",
    "    img_resh= img_round.reshape((100, 100, 1))\n",
    "    img= img_resh.reshape((1, )+ img_resh.shape)\n",
    "    \n",
    "    if(check== False):\n",
    "        X_test= img\n",
    "        check= True\n",
    "    else:\n",
    "        X_test= np.vstack((X_test, img))\n",
    "\n",
    "for file in test_file_1:\n",
    "    img_in= cv2.imread(path+ \"/test/PNEUMONIA/\"+ file, cv2.IMREAD_GRAYSCALE)\n",
    "    img_res= cv2.resize(img_in, dsize= (100, 100), interpolation= cv2.INTER_LINEAR)\n",
    "    img_round= img_res/255\n",
    "    img_resh= img_round.reshape((100, 100, 1))\n",
    "    img= img_resh.reshape((1, )+ img_resh.shape)\n",
    "    X_test= np.vstack((X_test, img))\n"
   ]
  },
  {
   "cell_type": "code",
   "execution_count": 9,
   "id": "245a6382",
   "metadata": {},
   "outputs": [],
   "source": [
    "y_test= np.array([0]* len(test_file_0))\n",
    "y_test_1= np.array([1]* len(test_file_1))\n",
    "y_test= np.append(y_test, y_test_1)"
   ]
  },
  {
   "cell_type": "code",
   "execution_count": 10,
   "id": "8a059463",
   "metadata": {},
   "outputs": [],
   "source": [
    "X_test, y_test= shuffle(X_test, y_test, random_state= 42)"
   ]
  },
  {
   "cell_type": "code",
   "execution_count": 11,
   "id": "17776ab1",
   "metadata": {},
   "outputs": [],
   "source": [
    "np.save(\"./dataset/X_test\", X_test)\n",
    "np.save(\"./dataset/y_test\", y_test)"
   ]
  },
  {
   "cell_type": "code",
   "execution_count": 12,
   "id": "a70aee4f",
   "metadata": {},
   "outputs": [],
   "source": [
    "X_train= np.load(\"./dataset/X_train.npy\")\n",
    "y_train= np.load(\"./dataset/y_train.npy\")\n",
    "X_val= np.load(\"./dataset/X_val.npy\")\n",
    "y_val= np.load(\"./dataset/y_val.npy\")\n",
    "X_test= np.load(\"./dataset/X_test.npy\")\n",
    "y_test= np.load(\"./dataset/y_test.npy\")"
   ]
  },
  {
   "cell_type": "code",
   "execution_count": 13,
   "id": "2cbde449",
   "metadata": {},
   "outputs": [],
   "source": [
    "model= keras.models.Sequential()"
   ]
  },
  {
   "cell_type": "code",
   "execution_count": 14,
   "id": "b8c39ab6",
   "metadata": {},
   "outputs": [],
   "source": [
    "model.add(keras.layers.Conv2D(64, 10, activation= \"relu\", padding= \"same\", input_shape= [100, 100, 1]))\n",
    "model.add(keras.layers.MaxPooling2D(2))\n",
    "model.add(keras.layers.Flatten())\n",
    "model.add(keras.layers.Dense(32, activation= \"relu\"))\n",
    "model.add(keras.layers.Dropout(0.5))\n",
    "model.add(keras.layers.Dense(2, activation= \"softmax\"))"
   ]
  },
  {
   "cell_type": "code",
   "execution_count": 15,
   "id": "40143a4d",
   "metadata": {},
   "outputs": [],
   "source": [
    "model.compile(loss= \"sparse_categorical_crossentropy\", optimizer= \"sgd\", metrics= [\"accuracy\"])"
   ]
  },
  {
   "cell_type": "code",
   "execution_count": 16,
   "id": "c78968c5",
   "metadata": {},
   "outputs": [
    {
     "name": "stdout",
     "output_type": "stream",
     "text": [
      "Model: \"sequential\"\n",
      "_________________________________________________________________\n",
      " Layer (type)                Output Shape              Param #   \n",
      "=================================================================\n",
      " conv2d (Conv2D)             (None, 100, 100, 64)      6464      \n",
      "                                                                 \n",
      " max_pooling2d (MaxPooling2D  (None, 50, 50, 64)       0         \n",
      " )                                                               \n",
      "                                                                 \n",
      " flatten (Flatten)           (None, 160000)            0         \n",
      "                                                                 \n",
      " dense (Dense)               (None, 32)                5120032   \n",
      "                                                                 \n",
      " dropout (Dropout)           (None, 32)                0         \n",
      "                                                                 \n",
      " dense_1 (Dense)             (None, 2)                 66        \n",
      "                                                                 \n",
      "=================================================================\n",
      "Total params: 5,126,562\n",
      "Trainable params: 5,126,562\n",
      "Non-trainable params: 0\n",
      "_________________________________________________________________\n"
     ]
    }
   ],
   "source": [
    "model.summary()"
   ]
  },
  {
   "cell_type": "code",
   "execution_count": 17,
   "id": "dc5b8133",
   "metadata": {
    "scrolled": true
   },
   "outputs": [
    {
     "name": "stdout",
     "output_type": "stream",
     "text": [
      "Epoch 1/30\n",
      "123/123 [==============================] - 22s 175ms/step - loss: 0.5623 - accuracy: 0.7459 - val_loss: 0.5154 - val_accuracy: 0.7301\n",
      "Epoch 2/30\n",
      "123/123 [==============================] - 21s 174ms/step - loss: 0.4990 - accuracy: 0.7472 - val_loss: 0.6094 - val_accuracy: 0.7301\n",
      "Epoch 3/30\n",
      "123/123 [==============================] - 22s 175ms/step - loss: 0.5002 - accuracy: 0.7472 - val_loss: 0.3968 - val_accuracy: 0.7301\n",
      "Epoch 4/30\n",
      "123/123 [==============================] - 22s 175ms/step - loss: 0.4260 - accuracy: 0.7753 - val_loss: 0.3251 - val_accuracy: 0.8397\n",
      "Epoch 5/30\n",
      "123/123 [==============================] - 22s 175ms/step - loss: 0.3714 - accuracy: 0.8090 - val_loss: 0.2705 - val_accuracy: 0.9064\n",
      "Epoch 6/30\n",
      "123/123 [==============================] - 22s 175ms/step - loss: 0.3294 - accuracy: 0.8298 - val_loss: 0.2138 - val_accuracy: 0.9325\n",
      "Epoch 7/30\n",
      "123/123 [==============================] - 22s 175ms/step - loss: 0.3011 - accuracy: 0.8489 - val_loss: 0.2386 - val_accuracy: 0.9011\n",
      "Epoch 8/30\n",
      "123/123 [==============================] - 21s 174ms/step - loss: 0.2592 - accuracy: 0.8796 - val_loss: 0.1894 - val_accuracy: 0.9279\n",
      "Epoch 9/30\n",
      "123/123 [==============================] - 22s 176ms/step - loss: 0.2619 - accuracy: 0.8883 - val_loss: 0.2331 - val_accuracy: 0.8995\n",
      "Epoch 10/30\n",
      "123/123 [==============================] - 22s 175ms/step - loss: 0.2372 - accuracy: 0.9077 - val_loss: 0.1936 - val_accuracy: 0.9294\n",
      "Epoch 11/30\n",
      "123/123 [==============================] - 22s 176ms/step - loss: 0.2147 - accuracy: 0.9243 - val_loss: 0.3747 - val_accuracy: 0.8029\n",
      "Epoch 12/30\n",
      "123/123 [==============================] - 21s 175ms/step - loss: 0.2073 - accuracy: 0.9238 - val_loss: 0.1767 - val_accuracy: 0.9333\n",
      "Epoch 13/30\n",
      "123/123 [==============================] - 21s 175ms/step - loss: 0.2066 - accuracy: 0.9333 - val_loss: 0.1473 - val_accuracy: 0.9532\n",
      "Epoch 14/30\n",
      "123/123 [==============================] - 21s 175ms/step - loss: 0.1849 - accuracy: 0.9330 - val_loss: 0.1277 - val_accuracy: 0.9563\n",
      "Epoch 15/30\n",
      "123/123 [==============================] - 21s 175ms/step - loss: 0.1822 - accuracy: 0.9356 - val_loss: 0.1229 - val_accuracy: 0.9548\n",
      "Epoch 16/30\n",
      "123/123 [==============================] - 22s 180ms/step - loss: 0.1690 - accuracy: 0.9399 - val_loss: 0.1430 - val_accuracy: 0.9371\n",
      "Epoch 17/30\n",
      "123/123 [==============================] - 22s 175ms/step - loss: 0.1647 - accuracy: 0.9381 - val_loss: 0.1175 - val_accuracy: 0.9601\n",
      "Epoch 18/30\n",
      "123/123 [==============================] - 22s 179ms/step - loss: 0.1644 - accuracy: 0.9397 - val_loss: 0.1167 - val_accuracy: 0.9578\n",
      "Epoch 19/30\n",
      "123/123 [==============================] - 21s 175ms/step - loss: 0.1534 - accuracy: 0.9443 - val_loss: 0.1728 - val_accuracy: 0.9348\n",
      "Epoch 20/30\n",
      "123/123 [==============================] - 21s 175ms/step - loss: 0.1537 - accuracy: 0.9450 - val_loss: 0.1266 - val_accuracy: 0.9563\n",
      "Epoch 21/30\n",
      "123/123 [==============================] - 21s 175ms/step - loss: 0.1476 - accuracy: 0.9458 - val_loss: 0.2118 - val_accuracy: 0.9256\n",
      "Epoch 22/30\n",
      "123/123 [==============================] - 22s 175ms/step - loss: 0.1403 - accuracy: 0.9509 - val_loss: 0.1148 - val_accuracy: 0.9632\n",
      "Epoch 23/30\n",
      "123/123 [==============================] - 22s 176ms/step - loss: 0.1362 - accuracy: 0.9535 - val_loss: 0.1118 - val_accuracy: 0.9663\n",
      "Epoch 24/30\n",
      "123/123 [==============================] - 21s 175ms/step - loss: 0.1228 - accuracy: 0.9563 - val_loss: 0.1993 - val_accuracy: 0.9057\n",
      "Epoch 25/30\n",
      "123/123 [==============================] - 21s 174ms/step - loss: 0.1347 - accuracy: 0.9507 - val_loss: 0.1065 - val_accuracy: 0.9678\n",
      "Epoch 26/30\n",
      "123/123 [==============================] - 21s 174ms/step - loss: 0.1290 - accuracy: 0.9581 - val_loss: 0.1068 - val_accuracy: 0.9716\n",
      "Epoch 27/30\n",
      "123/123 [==============================] - 21s 174ms/step - loss: 0.1187 - accuracy: 0.9568 - val_loss: 0.1104 - val_accuracy: 0.9739\n",
      "Epoch 28/30\n",
      "123/123 [==============================] - 21s 173ms/step - loss: 0.1196 - accuracy: 0.9527 - val_loss: 0.1108 - val_accuracy: 0.9640\n",
      "Epoch 29/30\n",
      "123/123 [==============================] - 21s 174ms/step - loss: 0.1189 - accuracy: 0.9622 - val_loss: 0.1260 - val_accuracy: 0.9532\n",
      "Epoch 30/30\n",
      "123/123 [==============================] - 21s 173ms/step - loss: 0.1165 - accuracy: 0.9553 - val_loss: 0.1865 - val_accuracy: 0.9149\n",
      "time:  645.9835731983185\n"
     ]
    }
   ],
   "source": [
    "start_time= time.time()\n",
    "history= model.fit(X_train, y_train, epochs= 60, validation_data= (X_val, y_val))\n",
    "end_time= time.time()\n",
    "print(\"time: \", end_time- start_time)"
   ]
  },
  {
   "cell_type": "code",
   "execution_count": 18,
   "id": "eab5a538",
   "metadata": {},
   "outputs": [
    {
     "name": "stderr",
     "output_type": "stream",
     "text": [
      "WARNING:absl:Found untraced functions such as _jit_compiled_convolution_op, _update_step_xla while saving (showing 2 of 2). These functions will not be directly callable after loading.\n"
     ]
    },
    {
     "name": "stdout",
     "output_type": "stream",
     "text": [
      "INFO:tensorflow:Assets written to: ./model/learning_model\\assets\n"
     ]
    },
    {
     "name": "stderr",
     "output_type": "stream",
     "text": [
      "INFO:tensorflow:Assets written to: ./model/learning_model\\assets\n"
     ]
    }
   ],
   "source": [
    "model.save(\"./model/learning_model\")"
   ]
  },
  {
   "cell_type": "code",
   "execution_count": 19,
   "id": "8fb90483",
   "metadata": {},
   "outputs": [],
   "source": [
    "import pandas as pd\n",
    "import matplotlib.pyplot as plt"
   ]
  },
  {
   "cell_type": "code",
   "execution_count": 20,
   "id": "94c209cd",
   "metadata": {},
   "outputs": [
    {
     "data": {
      "image/png": "[encoded data removed]",
      "text/plain": [
       "<Figure size 576x360 with 1 Axes>"
      ]
     },
     "metadata": {
      "needs_background": "light"
     },
     "output_type": "display_data"
    }
   ],
   "source": [
    "pd.DataFrame(history.history).plot(figsize= (8, 5))\n",
    "plt.grid(True)\n",
    "plt.gca().set_ylim(0, 1)\n",
    "plt.show()\n"
   ]
  },
  {
   "cell_type": "code",
   "execution_count": 26,
   "id": "e2e88e1e",
   "metadata": {},
   "outputs": [
    {
     "name": "stdout",
     "output_type": "stream",
     "text": [
      "20/20 [==============================] - 1s 39ms/step\n"
     ]
    },
    {
     "data": {
      "text/plain": [
       "array([1, 1, 1, 1, 1, 1, 1, 1, 1, 1, 1, 1, 1, 1, 1, 0, 1, 1, 1, 1, 1, 1,\n",
       "       1, 1, 1, 0, 1, 1, 1, 1, 1, 1, 1, 1, 1, 1, 1, 1, 1, 1, 1, 1, 1, 1,\n",
       "       1, 1, 1, 1, 0, 1, 1, 1, 1, 1, 1, 1, 1, 1, 1, 1, 1, 1, 0, 1, 1, 1,\n",
       "       1, 1, 1, 1, 1, 1, 0, 1, 1, 1, 1, 0, 1, 1, 1, 0, 1, 1, 1, 1, 1, 1,\n",
       "       1, 1, 1, 1, 1, 1, 1, 1, 1, 1, 1, 1, 1, 1, 1, 1, 1, 1, 1, 1, 1, 1,\n",
       "       0, 0, 1, 1, 1, 1, 1, 1, 1, 0, 1, 1, 1, 1, 1, 1, 1, 1, 0, 0, 1, 1,\n",
       "       1, 1, 1, 1, 1, 1, 1, 1, 0, 1, 1, 1, 1, 1, 1, 1, 1, 1, 1, 0, 1, 1,\n",
       "       1, 1, 1, 1, 1, 1, 1, 1, 1, 1, 1, 1, 1, 1, 1, 1, 1, 1, 1, 1, 1, 1,\n",
       "       1, 1, 1, 1, 1, 1, 1, 0, 1, 1, 1, 1, 1, 1, 1, 1, 1, 1, 1, 1, 1, 1,\n",
       "       1, 1, 1, 1, 1, 1, 1, 1, 1, 1, 1, 0, 1, 1, 1, 1, 1, 1, 1, 1, 1, 1,\n",
       "       1, 1, 1, 1, 1, 1, 1, 1, 1, 1, 1, 1, 1, 1, 1, 1, 1, 1, 1, 1, 1, 1,\n",
       "       1, 0, 1, 1, 1, 1, 1, 1, 1, 1, 1, 1, 0, 1, 1, 1, 1, 1, 1, 1, 1, 1,\n",
       "       1, 1, 1, 1, 1, 1, 1, 1, 1, 1, 1, 1, 1, 1, 1, 1, 1, 1, 1, 1, 1, 1,\n",
       "       1, 1, 1, 1, 1, 1, 1, 1, 1, 1, 1, 1, 1, 1, 1, 1, 1, 1, 1, 1, 1, 1,\n",
       "       1, 1, 1, 1, 1, 1, 1, 1, 1, 1, 1, 1, 1, 1, 1, 1, 1, 1, 1, 1, 1, 1,\n",
       "       1, 1, 1, 1, 1, 1, 1, 1, 1, 1, 1, 1, 1, 1, 0, 1, 1, 1, 1, 1, 1, 1,\n",
       "       1, 1, 1, 1, 1, 1, 0, 1, 1, 1, 1, 1, 0, 1, 1, 1, 1, 1, 1, 0, 1, 1,\n",
       "       1, 1, 1, 1, 1, 1, 1, 1, 1, 1, 1, 1, 1, 1, 1, 1, 1, 1, 1, 1, 1, 1,\n",
       "       1, 1, 1, 1, 1, 1, 1, 1, 1, 1, 1, 1, 1, 1, 1, 1, 1, 1, 1, 1, 1, 1,\n",
       "       1, 1, 1, 1, 1, 1, 1, 1, 1, 1, 1, 0, 1, 1, 1, 1, 1, 1, 1, 0, 0, 1,\n",
       "       1, 1, 1, 1, 1, 1, 1, 1, 1, 1, 1, 1, 1, 1, 1, 1, 1, 1, 1, 1, 1, 1,\n",
       "       1, 1, 1, 1, 1, 1, 1, 1, 1, 1, 0, 0, 1, 1, 1, 1, 1, 1, 1, 0, 1, 1,\n",
       "       1, 1, 1, 1, 1, 1, 1, 1, 1, 1, 1, 1, 1, 1, 1, 1, 0, 1, 1, 1, 1, 1,\n",
       "       1, 1, 1, 1, 1, 0, 1, 1, 1, 1, 1, 1, 1, 1, 1, 1, 1, 1, 1, 1, 1, 1,\n",
       "       1, 1, 1, 1, 1, 1, 1, 1, 1, 1, 1, 1, 1, 1, 1, 1, 1, 1, 0, 1, 1, 1,\n",
       "       1, 1, 1, 1, 1, 1, 1, 1, 1, 1, 1, 1, 1, 1, 1, 1, 1, 1, 1, 1, 1, 1,\n",
       "       1, 0, 1, 1, 1, 1, 1, 1, 1, 1, 1, 1, 1, 1, 1, 1, 1, 1, 1, 1, 1, 1,\n",
       "       1, 1, 1, 1, 1, 1, 1, 1, 1, 1, 1, 1, 1, 1, 1, 1, 1, 0, 1, 1, 1, 1,\n",
       "       1, 1, 1, 1, 0, 1, 1, 1], dtype=int64)"
      ]
     },
     "execution_count": 26,
     "metadata": {},
     "output_type": "execute_result"
    }
   ],
   "source": [
    "y_pred=np.argmax(model.predict(X_test), axis=-1)\n",
    "y_pred"
   ]
  },
  {
   "cell_type": "code",
   "execution_count": 23,
   "id": "966c86d3",
   "metadata": {},
   "outputs": [
    {
     "data": {
      "text/plain": [
       "array([1, 1, 0, 0, 1, 1, 0, 0, 1, 0, 1, 0, 0, 0, 1, 0, 0, 1, 1, 1, 0, 0,\n",
       "       0, 1, 1, 0, 1, 1, 1, 1, 1, 1, 0, 1, 0, 1, 1, 1, 0, 1, 1, 0, 0, 1,\n",
       "       1, 0, 1, 1, 0, 1, 1, 1, 0, 1, 1, 1, 0, 1, 0, 0, 1, 1, 0, 1, 1, 1,\n",
       "       0, 0, 1, 1, 1, 0, 0, 0, 1, 0, 1, 0, 1, 1, 1, 0, 1, 1, 0, 1, 1, 1,\n",
       "       0, 1, 1, 1, 0, 1, 0, 0, 1, 1, 1, 1, 0, 1, 1, 1, 0, 0, 1, 0, 1, 0,\n",
       "       0, 0, 0, 1, 1, 0, 1, 1, 1, 0, 0, 1, 0, 1, 0, 1, 1, 0, 0, 0, 1, 1,\n",
       "       1, 1, 1, 1, 1, 1, 1, 1, 0, 1, 0, 0, 1, 0, 0, 1, 1, 1, 0, 0, 1, 1,\n",
       "       0, 0, 1, 1, 0, 1, 1, 0, 0, 1, 1, 0, 0, 1, 1, 1, 1, 1, 0, 1, 1, 1,\n",
       "       1, 1, 1, 1, 1, 0, 0, 0, 1, 0, 0, 1, 0, 0, 1, 0, 1, 1, 0, 0, 1, 1,\n",
       "       1, 1, 1, 1, 0, 1, 0, 0, 0, 1, 1, 0, 1, 1, 0, 1, 1, 1, 1, 1, 1, 1,\n",
       "       1, 0, 0, 1, 0, 0, 1, 1, 0, 1, 0, 1, 1, 1, 1, 1, 0, 1, 1, 1, 1, 1,\n",
       "       1, 0, 1, 1, 1, 1, 1, 1, 0, 0, 1, 1, 0, 1, 1, 1, 1, 1, 0, 0, 0, 1,\n",
       "       1, 0, 1, 1, 1, 1, 1, 1, 0, 0, 1, 0, 0, 0, 1, 0, 0, 1, 1, 1, 1, 0,\n",
       "       1, 1, 1, 0, 0, 1, 1, 1, 1, 0, 0, 1, 1, 1, 0, 0, 1, 1, 0, 1, 1, 1,\n",
       "       1, 1, 1, 0, 0, 1, 1, 0, 0, 0, 0, 1, 1, 0, 1, 1, 0, 1, 1, 1, 1, 0,\n",
       "       1, 0, 1, 0, 1, 0, 0, 1, 1, 0, 1, 1, 0, 1, 0, 1, 1, 0, 1, 1, 1, 0,\n",
       "       1, 1, 1, 1, 0, 1, 0, 0, 1, 1, 1, 0, 0, 1, 1, 1, 1, 1, 1, 0, 1, 1,\n",
       "       1, 1, 0, 1, 1, 0, 1, 1, 0, 1, 1, 0, 1, 1, 1, 1, 0, 1, 0, 0, 1, 1,\n",
       "       1, 0, 1, 1, 1, 1, 1, 1, 0, 0, 0, 1, 1, 1, 1, 1, 1, 1, 1, 0, 1, 1,\n",
       "       1, 0, 1, 0, 0, 0, 1, 1, 1, 1, 1, 0, 1, 1, 1, 1, 1, 1, 1, 0, 0, 1,\n",
       "       1, 1, 1, 1, 0, 0, 0, 1, 1, 0, 1, 0, 1, 0, 1, 1, 0, 0, 0, 1, 1, 1,\n",
       "       1, 0, 1, 1, 1, 0, 1, 1, 1, 1, 0, 0, 1, 1, 0, 1, 0, 0, 0, 0, 1, 0,\n",
       "       1, 0, 1, 0, 0, 0, 0, 0, 0, 1, 1, 1, 1, 0, 1, 0, 0, 1, 1, 1, 1, 0,\n",
       "       1, 1, 0, 1, 1, 0, 1, 1, 1, 0, 0, 1, 0, 1, 1, 0, 0, 0, 0, 0, 1, 0,\n",
       "       1, 1, 1, 1, 1, 1, 0, 0, 1, 0, 1, 1, 0, 0, 0, 0, 1, 1, 0, 0, 0, 1,\n",
       "       1, 1, 1, 1, 1, 1, 0, 0, 1, 1, 1, 0, 1, 0, 1, 1, 0, 0, 0, 1, 1, 1,\n",
       "       1, 0, 1, 1, 1, 1, 0, 1, 1, 1, 0, 1, 1, 1, 1, 1, 1, 1, 0, 1, 1, 0,\n",
       "       1, 1, 1, 0, 1, 1, 0, 1, 0, 1, 1, 1, 1, 1, 0, 0, 1, 0, 1, 1, 0, 1,\n",
       "       0, 1, 0, 0, 0, 1, 1, 0])"
      ]
     },
     "execution_count": 23,
     "metadata": {},
     "output_type": "execute_result"
    }
   ],
   "source": [
    "y_test"
   ]
  },
  {
   "cell_type": "code",
   "execution_count": 27,
   "id": "d46b5fb5",
   "metadata": {},
   "outputs": [
    {
     "name": "stdout",
     "output_type": "stream",
     "text": [
      "accuracy:  0.6794871794871795\n"
     ]
    }
   ],
   "source": [
    "accuracy= 0\n",
    "\n",
    "for i in range(len(y_test)):\n",
    "    if(y_test[i]== y_pred[i]).all():\n",
    "        accuracy+= 1\n",
    "        \n",
    "print(\"accuracy: \", accuracy/len(y_test))"
   ]
  },
  {
   "cell_type": "code",
   "execution_count": null,
   "id": "a32f726b",
   "metadata": {},
   "outputs": [],
   "source": []
  }
 ],
 "metadata": {
  "kernelspec": {
   "display_name": "Python 3 (ipykernel)",
   "language": "python",
   "name": "python3"
  },
  "language_info": {
   "codemirror_mode": {
    "name": "ipython",
    "version": 3
   },
   "file_extension": ".py",
   "mimetype": "text/x-python",
   "name": "python",
   "nbconvert_exporter": "python",
   "pygments_lexer": "ipython3",
   "version": "3.9.12"
  }
 },
 "nbformat": 4,
 "nbformat_minor": 5
}
