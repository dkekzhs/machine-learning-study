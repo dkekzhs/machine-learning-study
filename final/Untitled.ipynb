험{
 "cells": [
  {
   "cell_type": "code",
   "execution_count": 1,
   "id": "8c259c3c-d418-45f8-8615-b9223facd411",
   "metadata": {},
   "outputs": [
    {
     "name": "stdout",
     "output_type": "stream",
     "text": [
      "Init Plugin\n",
      "Init Graph Optimizer\n",
      "Init Kernel\n",
      "Metal device set to: Apple M1 Pro\n"
     ]
    },
    {
     "name": "stderr",
     "output_type": "stream",
     "text": [
      "2022-11-03 20:16:22.126790: I tensorflow/core/common_runtime/pluggable_device/pluggable_device_factory.cc:305] Could not identify NUMA node of platform GPU ID 0, defaulting to 0. Your kernel may not have been built with NUMA support.\n",
      "2022-11-03 20:16:22.126919: I tensorflow/core/common_runtime/pluggable_device/pluggable_device_factory.cc:271] Created TensorFlow device (/job:localhost/replica:0/task:0/device:GPU:0 with 0 MB memory) -> physical PluggableDevice (device: 0, name: METAL, pci bus id: <undefined>)\n"
     ]
    },
    {
     "name": "stdout",
     "output_type": "stream",
     "text": [
      "('You must install pydot (`pip install pydot`) and install graphviz (see instructions at https://graphviz.gitlab.io/download/) ', 'for plot_model/model_to_dot to work.')\n"
     ]
    },
    {
     "name": "stderr",
     "output_type": "stream",
     "text": [
      "2022-11-03 20:16:35.009984: I tensorflow/compiler/mlir/mlir_graph_optimization_pass.cc:176] None of the MLIR Optimization Passes are enabled (registered 2)\n",
      "2022-11-03 20:16:35.010397: W tensorflow/core/platform/profile_utils/cpu_utils.cc:128] Failed to get CPU frequency: 0 Hz\n",
      "2022-11-03 20:16:35.181716: I tensorflow/core/grappler/optimizers/custom_graph_optimizer_registry.cc:112] Plugin optimizer for device_type GPU is enabled.\n"
     ]
    },
    {
     "name": "stdout",
     "output_type": "stream",
     "text": [
      "Epoch 1/20\n",
      "1500/1500 [==============================] - ETA: 0s - loss: 0.5019 - accuracy: 0.8210"
     ]
    },
    {
     "name": "stderr",
     "output_type": "stream",
     "text": [
      "2022-11-03 20:16:47.539760: I tensorflow/core/grappler/optimizers/custom_graph_optimizer_registry.cc:112] Plugin optimizer for device_type GPU is enabled.\n"
     ]
    },
    {
     "name": "stdout",
     "output_type": "stream",
     "text": [
      "1500/1500 [==============================] - 14s 8ms/step - loss: 0.5019 - accuracy: 0.8210 - val_loss: 0.3244 - val_accuracy: 0.8818\n",
      "Epoch 2/20\n",
      "1500/1500 [==============================] - 12s 8ms/step - loss: 0.3262 - accuracy: 0.8829 - val_loss: 0.2843 - val_accuracy: 0.8939\n",
      "Epoch 3/20\n",
      "1500/1500 [==============================] - 13s 8ms/step - loss: 0.2757 - accuracy: 0.9000 - val_loss: 0.2488 - val_accuracy: 0.9072\n",
      "Epoch 4/20\n",
      "1500/1500 [==============================] - 13s 8ms/step - loss: 0.2478 - accuracy: 0.9098 - val_loss: 0.2600 - val_accuracy: 0.9043\n",
      "Epoch 5/20\n",
      "1500/1500 [==============================] - 13s 8ms/step - loss: 0.2231 - accuracy: 0.9182 - val_loss: 0.2321 - val_accuracy: 0.9133\n",
      "Epoch 6/20\n",
      "1500/1500 [==============================] - 13s 8ms/step - loss: 0.2046 - accuracy: 0.9251 - val_loss: 0.2266 - val_accuracy: 0.9153\n",
      "Epoch 7/20\n",
      "1500/1500 [==============================] - 13s 9ms/step - loss: 0.1867 - accuracy: 0.9303 - val_loss: 0.2203 - val_accuracy: 0.9199\n",
      "Epoch 8/20\n",
      "1500/1500 [==============================] - 13s 9ms/step - loss: 0.1707 - accuracy: 0.9360 - val_loss: 0.2303 - val_accuracy: 0.9138\n",
      "Epoch 9/20\n",
      "1500/1500 [==============================] - 13s 9ms/step - loss: 0.1582 - accuracy: 0.9410 - val_loss: 0.2329 - val_accuracy: 0.9195\n"
     ]
    }
   ],
   "source": [
    "from tensorflow import keras\n",
    "from sklearn.model_selection import train_test_split\n",
    "(train_input, train_target) , (test_input, test_target) = keras.datasets.fashion_mnist.load_data()\n",
    "\n",
    "\n",
    "train_scaled =train_input.reshape(-1,28,28,1)/255.0\n",
    "train_scaled,val_scaled,train_target,val_target =train_test_split( train_scaled,train_target,test_size=0.2,random_state=42)\n",
    "\n",
    "model =keras.Sequential()\n",
    "model.add(keras.layers.Conv2D(32,kernel_size=3,activation='relu', padding='same',input_shape=(28,28,1)))\n",
    "model.add(keras.layers.MaxPooling2D(2))\n",
    "\n",
    "model.add(keras.layers.Conv2D(64,kernel_size=(3,3),activation='relu',padding='same'))\n",
    "model.add(keras.layers.MaxPooling2D(2))\n",
    "model.add(keras.layers.Flatten())\n",
    "model.add(keras.layers.Dense(100,activation='relu'))\n",
    "model.add(keras.layers.Dropout(0.4))\n",
    "model.add(keras.layers.Dense(10,activation='softmax'))\n",
    "\n",
    "keras.utils.plot_model(model,show_shapes=True)\n",
    "\n",
    "model.compile(optimizer='adam',loss='sparse_categorical_crossentropy', metrics='accuracy')\n",
    "checkpoint_cb =keras.callbacks.ModelCheckpoint('best-cnn-model.h5')\n",
    "early_stopping_cb =keras.callbacks.EarlyStopping(patience=2, restore_best_weights=True)\n",
    "history =model.fit(train_scaled,train_target,epochs=20, validation_data=(val_scaled,val_target), callbacks=[checkpoint_cb,early_stopping_cb])\n"
   ]
  },
  {
   "cell_type": "code",
   "execution_count": null,
   "id": "2f795b1f-1a2a-441b-8f96-63199d96b26b",
   "metadata": {},
   "outputs": [],
   "source": []
  },
  {
   "cell_type": "code",
   "execution_count": null,
   "id": "df2b93df-a48a-4858-b8a1-d32019bbbb7d",
   "metadata": {},
   "outputs": [],
   "source": []
  }
 ],
 "metadata": {
  "kernelspec": {
   "display_name": "Python 3 (ipykernel)",
   "language": "python",
   "name": "python3"
  },
  "language_info": {
   "codemirror_mode": {
    "name": "ipython",
    "version": 3
   },
   "file_extension": ".py",
   "mimetype": "text/x-python",
   "name": "python",
   "nbconvert_exporter": "python",
   "pygments_lexer": "ipython3",
   "version": "3.8.13"
  }
 },
 "nbformat": 4,
 "nbformat_minor": 5
}
